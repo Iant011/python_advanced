{
 "cells": [
  {
   "cell_type": "code",
   "execution_count": 2,
   "id": "1eb7f82d",
   "metadata": {},
   "outputs": [],
   "source": [
    "class xyz:\n",
    "    def __init__(self,a,b,c):\n",
    "        self.a = a\n",
    "        self.b = b\n",
    "        self.c = c\n",
    "        \n",
    "    def test(self):\n",
    "        print(\"This is my test in class xyz\")\n",
    "        \n",
    "    def test2(self):\n",
    "        print(\"This is my second in  my class xyz\")\n",
    "        \n",
    "        \n",
    "class xyz1(xyz):\n",
    "    def test5(self):\n",
    "        print(\"This is my test 5 in my class of xyz1\")"
   ]
  },
  {
   "cell_type": "code",
   "execution_count": 4,
   "id": "02f7d743",
   "metadata": {},
   "outputs": [],
   "source": [
    "d = xyz1(1,2,3)"
   ]
  },
  {
   "cell_type": "code",
   "execution_count": 5,
   "id": "d40cfa45",
   "metadata": {},
   "outputs": [
    {
     "name": "stdout",
     "output_type": "stream",
     "text": [
      "This is my test 5 in my class of xyz1\n"
     ]
    }
   ],
   "source": [
    "d.test5()"
   ]
  },
  {
   "cell_type": "code",
   "execution_count": 6,
   "id": "67d83086",
   "metadata": {},
   "outputs": [
    {
     "name": "stdout",
     "output_type": "stream",
     "text": [
      "This is my test in class xyz\n"
     ]
    }
   ],
   "source": [
    "d.test()"
   ]
  },
  {
   "cell_type": "markdown",
   "id": "c73f6113",
   "metadata": {},
   "source": [
    "# Publlic Private Protected"
   ]
  },
  {
   "cell_type": "code",
   "execution_count": 10,
   "id": "5b675093",
   "metadata": {},
   "outputs": [],
   "source": [
    "class test :\n",
    "    def __init__(self, a, b , c):\n",
    "        self.a = a\n",
    "        self.b = b\n",
    "        self.c = c\n",
    "        \n",
    "class test2(test) :\n",
    "    pass"
   ]
  },
  {
   "cell_type": "code",
   "execution_count": 11,
   "id": "82b1f67e",
   "metadata": {},
   "outputs": [],
   "source": [
    "f = test2('a','b','c')"
   ]
  },
  {
   "cell_type": "code",
   "execution_count": 12,
   "id": "15675c23",
   "metadata": {},
   "outputs": [
    {
     "data": {
      "text/plain": [
       "'a'"
      ]
     },
     "execution_count": 12,
     "metadata": {},
     "output_type": "execute_result"
    }
   ],
   "source": [
    "f.a"
   ]
  },
  {
   "cell_type": "code",
   "execution_count": 13,
   "id": "6006a090",
   "metadata": {},
   "outputs": [
    {
     "data": {
      "text/plain": [
       "'b'"
      ]
     },
     "execution_count": 13,
     "metadata": {},
     "output_type": "execute_result"
    }
   ],
   "source": [
    "f.b"
   ]
  },
  {
   "cell_type": "code",
   "execution_count": 14,
   "id": "e7249018",
   "metadata": {},
   "outputs": [
    {
     "data": {
      "text/plain": [
       "'c'"
      ]
     },
     "execution_count": 14,
     "metadata": {},
     "output_type": "execute_result"
    }
   ],
   "source": [
    "f.c"
   ]
  },
  {
   "cell_type": "code",
   "execution_count": 15,
   "id": "4b679327",
   "metadata": {},
   "outputs": [],
   "source": [
    "class test :\n",
    "    def __init__(self, a, b , c):\n",
    "        self.a = a    #public\n",
    "        self._b = b  #protected\n",
    "        self.c = c\n",
    "        \n",
    "class test2(test) :\n",
    "    pass"
   ]
  },
  {
   "cell_type": "code",
   "execution_count": 16,
   "id": "950327f6",
   "metadata": {},
   "outputs": [],
   "source": [
    "g = test(1,2,3)"
   ]
  },
  {
   "cell_type": "code",
   "execution_count": 17,
   "id": "1a2799ae",
   "metadata": {},
   "outputs": [
    {
     "data": {
      "text/plain": [
       "1"
      ]
     },
     "execution_count": 17,
     "metadata": {},
     "output_type": "execute_result"
    }
   ],
   "source": [
    "g.a    # Because this is my public "
   ]
  },
  {
   "cell_type": "code",
   "execution_count": 18,
   "id": "96c658ed",
   "metadata": {},
   "outputs": [
    {
     "data": {
      "text/plain": [
       "2"
      ]
     },
     "execution_count": 18,
     "metadata": {},
     "output_type": "execute_result"
    }
   ],
   "source": [
    "g._b # Protected file will be accesed by using '_' before my argument"
   ]
  },
  {
   "cell_type": "code",
   "execution_count": 19,
   "id": "9e71aced",
   "metadata": {},
   "outputs": [
    {
     "data": {
      "text/plain": [
       "3"
      ]
     },
     "execution_count": 19,
     "metadata": {},
     "output_type": "execute_result"
    }
   ],
   "source": [
    "g.c"
   ]
  },
  {
   "cell_type": "code",
   "execution_count": 20,
   "id": "b92bbb94",
   "metadata": {},
   "outputs": [],
   "source": [
    "class test :\n",
    "    def __init__(self, a, b , c):\n",
    "        self.a = a    #public\n",
    "        self._b = b  #protected\n",
    "        self.__c = c  #private\n",
    "        \n",
    "class test2(test) :\n",
    "    pass"
   ]
  },
  {
   "cell_type": "code",
   "execution_count": 21,
   "id": "a07baca2",
   "metadata": {},
   "outputs": [],
   "source": [
    "s = test(1,2,3)"
   ]
  },
  {
   "cell_type": "code",
   "execution_count": 22,
   "id": "ac241e0a",
   "metadata": {},
   "outputs": [
    {
     "data": {
      "text/plain": [
       "1"
      ]
     },
     "execution_count": 22,
     "metadata": {},
     "output_type": "execute_result"
    }
   ],
   "source": [
    "s.a"
   ]
  },
  {
   "cell_type": "code",
   "execution_count": 23,
   "id": "bdea4c2f",
   "metadata": {},
   "outputs": [
    {
     "data": {
      "text/plain": [
       "2"
      ]
     },
     "execution_count": 23,
     "metadata": {},
     "output_type": "execute_result"
    }
   ],
   "source": [
    "s._b"
   ]
  },
  {
   "cell_type": "code",
   "execution_count": 25,
   "id": "0dd92b56",
   "metadata": {},
   "outputs": [
    {
     "data": {
      "text/plain": [
       "3"
      ]
     },
     "execution_count": 25,
     "metadata": {},
     "output_type": "execute_result"
    }
   ],
   "source": [
    "s._test__c"
   ]
  },
  {
   "cell_type": "code",
   "execution_count": null,
   "id": "6df3221a",
   "metadata": {},
   "outputs": [],
   "source": []
  },
  {
   "cell_type": "code",
   "execution_count": 27,
   "id": "a83ddaa4",
   "metadata": {},
   "outputs": [],
   "source": [
    "d = test2(1,2,3)"
   ]
  },
  {
   "cell_type": "code",
   "execution_count": 28,
   "id": "33e2a476",
   "metadata": {},
   "outputs": [
    {
     "data": {
      "text/plain": [
       "1"
      ]
     },
     "execution_count": 28,
     "metadata": {},
     "output_type": "execute_result"
    }
   ],
   "source": [
    "d.a"
   ]
  },
  {
   "cell_type": "code",
   "execution_count": 29,
   "id": "c622a808",
   "metadata": {},
   "outputs": [
    {
     "data": {
      "text/plain": [
       "2"
      ]
     },
     "execution_count": 29,
     "metadata": {},
     "output_type": "execute_result"
    }
   ],
   "source": [
    "d._b"
   ]
  },
  {
   "cell_type": "code",
   "execution_count": 30,
   "id": "ee3c064d",
   "metadata": {},
   "outputs": [
    {
     "data": {
      "text/plain": [
       "3"
      ]
     },
     "execution_count": 30,
     "metadata": {},
     "output_type": "execute_result"
    }
   ],
   "source": [
    "d._test__c"
   ]
  },
  {
   "cell_type": "code",
   "execution_count": null,
   "id": "257d77c0",
   "metadata": {},
   "outputs": [],
   "source": []
  },
  {
   "cell_type": "code",
   "execution_count": 33,
   "id": "b43b4d62",
   "metadata": {},
   "outputs": [],
   "source": [
    "class bonouscalculator:\n",
    "    def __init__(self,employ_id,employ_rating):\n",
    "        self.employ_id = employ_id                    #public             \n",
    "        self.employ_rating= employ_rating             #public\n",
    "        self._gmail = 'iantdatascience@gmail.com'    #protected\n",
    "        self.__bonousForA = \"70%\"                    #private\n",
    "        self.__bonousForB = \"60%\"\n",
    "        self.__bonousForC = \"40%\"\n",
    "        \n",
    "    "
   ]
  },
  {
   "cell_type": "code",
   "execution_count": 34,
   "id": "fd32d741",
   "metadata": {},
   "outputs": [],
   "source": [
    "calsy =  bonouscalculator(101,'B')"
   ]
  },
  {
   "cell_type": "code",
   "execution_count": 35,
   "id": "028aa9c2",
   "metadata": {},
   "outputs": [
    {
     "data": {
      "text/plain": [
       "101"
      ]
     },
     "execution_count": 35,
     "metadata": {},
     "output_type": "execute_result"
    }
   ],
   "source": [
    "calsy.employ_id"
   ]
  },
  {
   "cell_type": "code",
   "execution_count": 36,
   "id": "dfed1c1a",
   "metadata": {},
   "outputs": [
    {
     "data": {
      "text/plain": [
       "'B'"
      ]
     },
     "execution_count": 36,
     "metadata": {},
     "output_type": "execute_result"
    }
   ],
   "source": [
    "calsy.employ_rating"
   ]
  },
  {
   "cell_type": "code",
   "execution_count": 39,
   "id": "af139bb3",
   "metadata": {},
   "outputs": [
    {
     "data": {
      "text/plain": [
       "'iantdatascience@gmail.com'"
      ]
     },
     "execution_count": 39,
     "metadata": {},
     "output_type": "execute_result"
    }
   ],
   "source": [
    "calsy._gmail"
   ]
  },
  {
   "cell_type": "code",
   "execution_count": 40,
   "id": "bd0cdc56",
   "metadata": {},
   "outputs": [
    {
     "data": {
      "text/plain": [
       "'70%'"
      ]
     },
     "execution_count": 40,
     "metadata": {},
     "output_type": "execute_result"
    }
   ],
   "source": [
    "calsy._bonouscalculator__bonousForA"
   ]
  },
  {
   "cell_type": "code",
   "execution_count": 41,
   "id": "1f771aa4",
   "metadata": {},
   "outputs": [
    {
     "data": {
      "text/plain": [
       "'60%'"
      ]
     },
     "execution_count": 41,
     "metadata": {},
     "output_type": "execute_result"
    }
   ],
   "source": [
    "calsy._bonouscalculator__bonousForB"
   ]
  },
  {
   "cell_type": "code",
   "execution_count": 42,
   "id": "7c7ce795",
   "metadata": {},
   "outputs": [
    {
     "data": {
      "text/plain": [
       "'40%'"
      ]
     },
     "execution_count": 42,
     "metadata": {},
     "output_type": "execute_result"
    }
   ],
   "source": [
    "calsy._bonouscalculator__bonousForC"
   ]
  },
  {
   "cell_type": "code",
   "execution_count": 43,
   "id": "3a0b7226",
   "metadata": {},
   "outputs": [],
   "source": [
    "class bonouscalculator:\n",
    "    def __init__(self,employ_id,employ_rating):\n",
    "        self.employ_id = employ_id                    #public             \n",
    "        self.employ_rating= employ_rating             #public\n",
    "        self._gmail = 'iantdatascience@gmail.com'    #protected\n",
    "        self.__bonousForA = \"70%\"                    #private\n",
    "        self.__bonousForB = \"60%\"\n",
    "        self.__bonousForC = \"40%\"\n",
    "        \n",
    "    def calculator(self):\n",
    "        if self.employ_rating == 'A':\n",
    "            bonus = self.__bonousForA\n",
    "            return bonus\n",
    "        elif self.employ_rating == 'B':\n",
    "            bonus = self.__bonousForB\n",
    "            return bonus\n",
    "        else :\n",
    "            bonus = self.__bonousForC\n",
    "            return bonus"
   ]
  },
  {
   "cell_type": "code",
   "execution_count": 44,
   "id": "424012c2",
   "metadata": {},
   "outputs": [],
   "source": [
    "g = bonouscalculator(105,'C')"
   ]
  },
  {
   "cell_type": "code",
   "execution_count": 45,
   "id": "27b3fd5d",
   "metadata": {},
   "outputs": [
    {
     "data": {
      "text/plain": [
       "'40%'"
      ]
     },
     "execution_count": 45,
     "metadata": {},
     "output_type": "execute_result"
    }
   ],
   "source": [
    "g.calculator()"
   ]
  },
  {
   "cell_type": "code",
   "execution_count": 46,
   "id": "e1511385",
   "metadata": {},
   "outputs": [],
   "source": [
    "g = bonouscalculator(105,'A')"
   ]
  },
  {
   "cell_type": "code",
   "execution_count": 47,
   "id": "eb8c3ec0",
   "metadata": {},
   "outputs": [
    {
     "data": {
      "text/plain": [
       "'70%'"
      ]
     },
     "execution_count": 47,
     "metadata": {},
     "output_type": "execute_result"
    }
   ],
   "source": [
    "g.calculator()"
   ]
  },
  {
   "cell_type": "code",
   "execution_count": 48,
   "id": "ec326a20",
   "metadata": {},
   "outputs": [],
   "source": [
    "g = bonouscalculator(105,'B')"
   ]
  },
  {
   "cell_type": "code",
   "execution_count": 49,
   "id": "8829587f",
   "metadata": {},
   "outputs": [
    {
     "data": {
      "text/plain": [
       "'60%'"
      ]
     },
     "execution_count": 49,
     "metadata": {},
     "output_type": "execute_result"
    }
   ],
   "source": [
    "g.calculator()"
   ]
  },
  {
   "cell_type": "code",
   "execution_count": 37,
   "id": "7e5340dd",
   "metadata": {},
   "outputs": [],
   "source": [
    "def iant(a,b):\n",
    "    c = 10\n",
    "    return a + b + c\n",
    "    "
   ]
  },
  {
   "cell_type": "code",
   "execution_count": 38,
   "id": "c5954369",
   "metadata": {},
   "outputs": [
    {
     "data": {
      "text/plain": [
       "20"
      ]
     },
     "execution_count": 38,
     "metadata": {},
     "output_type": "execute_result"
    }
   ],
   "source": [
    "iant(5,5)"
   ]
  },
  {
   "cell_type": "markdown",
   "id": "b36975d3",
   "metadata": {},
   "source": [
    "# Polymorphism"
   ]
  },
  {
   "cell_type": "code",
   "execution_count": 50,
   "id": "9c6bbddf",
   "metadata": {},
   "outputs": [],
   "source": [
    "def test(a,b):\n",
    "    return a + b"
   ]
  },
  {
   "cell_type": "code",
   "execution_count": 51,
   "id": "d9564eff",
   "metadata": {},
   "outputs": [
    {
     "data": {
      "text/plain": [
       "11"
      ]
     },
     "execution_count": 51,
     "metadata": {},
     "output_type": "execute_result"
    }
   ],
   "source": [
    "test(5,6)"
   ]
  },
  {
   "cell_type": "code",
   "execution_count": 52,
   "id": "01c18124",
   "metadata": {},
   "outputs": [],
   "source": [
    "class instagram:\n",
    "    def share_stories(self):\n",
    "        print(\"This will share my instagram story\")\n",
    "        \n",
    "class facebook:\n",
    "    def share_stories(self):\n",
    "        print(\"This will share my facebook story\")"
   ]
  },
  {
   "cell_type": "code",
   "execution_count": 53,
   "id": "bf6cad57",
   "metadata": {},
   "outputs": [],
   "source": [
    "def sharestories(app):\n",
    "    app.share_stories()"
   ]
  },
  {
   "cell_type": "code",
   "execution_count": 55,
   "id": "d3df3a8e",
   "metadata": {},
   "outputs": [],
   "source": [
    "i = instagram()\n",
    "f = facebook()"
   ]
  },
  {
   "cell_type": "code",
   "execution_count": 56,
   "id": "9690d4e7",
   "metadata": {},
   "outputs": [
    {
     "name": "stdout",
     "output_type": "stream",
     "text": [
      "This will share my instagram story\n"
     ]
    }
   ],
   "source": [
    "sharestories(i)"
   ]
  },
  {
   "cell_type": "code",
   "execution_count": 57,
   "id": "7f526bb4",
   "metadata": {},
   "outputs": [
    {
     "name": "stdout",
     "output_type": "stream",
     "text": [
      "This will share my facebook story\n"
     ]
    }
   ],
   "source": [
    "sharestories(f)"
   ]
  },
  {
   "cell_type": "code",
   "execution_count": 60,
   "id": "eb07d6ef",
   "metadata": {},
   "outputs": [],
   "source": [
    "class social_media:\n",
    "    def share_stories(self):\n",
    "        print(\"Share Stories\")\n",
    "        \n",
    "    def upload_pic(self):\n",
    "        print(\"This will help me to upload pic on social media\")\n",
    "        \n",
    "class instagram(social_media):\n",
    "    def share_stories(self):\n",
    "        print(\"This will share my instagram story\")\n",
    "        \n",
    "class facebook(social_media):\n",
    "    def share_stories(self):\n",
    "        print(\"This will share my facebook story\")"
   ]
  },
  {
   "cell_type": "code",
   "execution_count": 66,
   "id": "86d25a4e",
   "metadata": {},
   "outputs": [
    {
     "name": "stdout",
     "output_type": "stream",
     "text": [
      "This will share my facebook story\n"
     ]
    }
   ],
   "source": [
    "facebook.share_stories(f)"
   ]
  },
  {
   "cell_type": "code",
   "execution_count": 67,
   "id": "f04eb48f",
   "metadata": {},
   "outputs": [],
   "source": [
    "i = instagram()\n",
    "f = facebook()"
   ]
  },
  {
   "cell_type": "code",
   "execution_count": 69,
   "id": "7ce1db03",
   "metadata": {},
   "outputs": [
    {
     "name": "stdout",
     "output_type": "stream",
     "text": [
      "This will share my facebook story\n"
     ]
    }
   ],
   "source": [
    "f.share_stories()"
   ]
  },
  {
   "cell_type": "code",
   "execution_count": 70,
   "id": "23854249",
   "metadata": {},
   "outputs": [
    {
     "name": "stdout",
     "output_type": "stream",
     "text": [
      "This will share my instagram story\n"
     ]
    }
   ],
   "source": [
    "i.share_stories()"
   ]
  },
  {
   "cell_type": "code",
   "execution_count": 71,
   "id": "16f74d6e",
   "metadata": {},
   "outputs": [
    {
     "name": "stdout",
     "output_type": "stream",
     "text": [
      "This will help me to upload pic on social media\n"
     ]
    }
   ],
   "source": [
    "i.upload_pic()"
   ]
  },
  {
   "cell_type": "code",
   "execution_count": 72,
   "id": "1b1ffac9",
   "metadata": {},
   "outputs": [
    {
     "name": "stdout",
     "output_type": "stream",
     "text": [
      "This will help me to upload pic on social media\n"
     ]
    }
   ],
   "source": [
    "f.upload_pic()"
   ]
  },
  {
   "cell_type": "code",
   "execution_count": 73,
   "id": "cc7a2a1a",
   "metadata": {},
   "outputs": [],
   "source": [
    "# Custom Exception"
   ]
  },
  {
   "cell_type": "code",
   "execution_count": 75,
   "id": "2c05f844",
   "metadata": {},
   "outputs": [],
   "source": [
    "class test(Exception):\n",
    "    def __init__(self,msg,myvalue):\n",
    "        self.msg = msg\n",
    "        self.myvalue = myvalue"
   ]
  },
  {
   "cell_type": "code",
   "execution_count": 77,
   "id": "75633b1c",
   "metadata": {},
   "outputs": [
    {
     "name": "stdout",
     "output_type": "stream",
     "text": [
      "('This is my own exception class', 'IANT')\n"
     ]
    }
   ],
   "source": [
    "try:\n",
    "    raise(test(\"This is my own exception class\", 'IANT'))\n",
    "    \n",
    "except test as t:\n",
    "    print(t)"
   ]
  },
  {
   "cell_type": "code",
   "execution_count": 85,
   "id": "d7bf1e1d",
   "metadata": {},
   "outputs": [],
   "source": [
    "f = test('IANT1',5)"
   ]
  },
  {
   "cell_type": "code",
   "execution_count": 86,
   "id": "410242f6",
   "metadata": {},
   "outputs": [
    {
     "data": {
      "text/plain": [
       "5"
      ]
     },
     "execution_count": 86,
     "metadata": {},
     "output_type": "execute_result"
    }
   ],
   "source": [
    "f.myvalue"
   ]
  },
  {
   "cell_type": "code",
   "execution_count": 87,
   "id": "6aadfbb9",
   "metadata": {},
   "outputs": [
    {
     "data": {
      "text/plain": [
       "('IANT1', 5)"
      ]
     },
     "execution_count": 87,
     "metadata": {},
     "output_type": "execute_result"
    }
   ],
   "source": [
    "f.args"
   ]
  },
  {
   "cell_type": "code",
   "execution_count": 90,
   "id": "315883be",
   "metadata": {},
   "outputs": [
    {
     "data": {
      "text/plain": [
       "<function test.with_traceback>"
      ]
     },
     "execution_count": 90,
     "metadata": {},
     "output_type": "execute_result"
    }
   ],
   "source": [
    "f.with_traceback"
   ]
  },
  {
   "cell_type": "code",
   "execution_count": 95,
   "id": "83c77a9a",
   "metadata": {},
   "outputs": [
    {
     "name": "stdout",
     "output_type": "stream",
     "text": [
      "('This is my own exception class', 'IANT')\n"
     ]
    }
   ],
   "source": [
    "try:\n",
    "    age = -5\n",
    "    \n",
    "    if age <0:\n",
    "        raise(test(\"This is my own exception class\", 'IANT'))\n",
    "    \n",
    "except test as t:\n",
    "    print(t)"
   ]
  },
  {
   "cell_type": "markdown",
   "id": "8e011853",
   "metadata": {},
   "source": [
    "# Multiple Inheritance"
   ]
  },
  {
   "cell_type": "code",
   "execution_count": 97,
   "id": "d3779220",
   "metadata": {},
   "outputs": [],
   "source": [
    "class Batch_number:\n",
    "    batchnumber = ''\n",
    "    def __init__(self,a,b,c):\n",
    "        self.a =a \n",
    "        self.b = b\n",
    "        self.c = c\n",
    "        \n",
    "    def batch(self):\n",
    "        print(self.batchnumber)\n",
    "        \n",
    "class course_name:\n",
    "    cname = ''\n",
    "    \n",
    "    def course(self):\n",
    "        print(cself.cname)\n",
    "        \n",
    "class students(Batch_number,course_name):\n",
    "    def deets(self):\n",
    "        print(\"Batch:\",self.batchnumber)\n",
    "        print(\"Course:\",self.cname)"
   ]
  },
  {
   "cell_type": "code",
   "execution_count": 99,
   "id": "561e2eab",
   "metadata": {},
   "outputs": [],
   "source": [
    "s1 = students(5,6,7)"
   ]
  },
  {
   "cell_type": "code",
   "execution_count": 100,
   "id": "76476235",
   "metadata": {},
   "outputs": [],
   "source": [
    "s1.batchnumber = '100'"
   ]
  },
  {
   "cell_type": "code",
   "execution_count": 101,
   "id": "a87c8ce5",
   "metadata": {},
   "outputs": [],
   "source": [
    "s1.cname = 'DATA SCIENCE'"
   ]
  },
  {
   "cell_type": "code",
   "execution_count": 102,
   "id": "614749d2",
   "metadata": {},
   "outputs": [
    {
     "name": "stdout",
     "output_type": "stream",
     "text": [
      "Batch: 100\n",
      "Course: DATA SCIENCE\n"
     ]
    }
   ],
   "source": [
    "s1.deets()"
   ]
  },
  {
   "cell_type": "markdown",
   "id": "066035e3",
   "metadata": {},
   "source": [
    "# Overwriting"
   ]
  },
  {
   "cell_type": "code",
   "execution_count": null,
   "id": "5471ffb2",
   "metadata": {},
   "outputs": [],
   "source": []
  }
 ],
 "metadata": {
  "kernelspec": {
   "display_name": "Python 3 (ipykernel)",
   "language": "python",
   "name": "python3"
  },
  "language_info": {
   "codemirror_mode": {
    "name": "ipython",
    "version": 3
   },
   "file_extension": ".py",
   "mimetype": "text/x-python",
   "name": "python",
   "nbconvert_exporter": "python",
   "pygments_lexer": "ipython3",
   "version": "3.10.9"
  }
 },
 "nbformat": 4,
 "nbformat_minor": 5
}
