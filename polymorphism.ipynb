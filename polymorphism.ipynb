{
 "cells": [
  {
   "cell_type": "code",
   "execution_count": 3,
   "id": "0371e872",
   "metadata": {},
   "outputs": [],
   "source": [
    "from abc import ABC, abstractmethod"
   ]
  },
  {
   "cell_type": "code",
   "execution_count": 5,
   "id": "bd994d7e",
   "metadata": {},
   "outputs": [],
   "source": [
    "class UIControl(ABC):\n",
    "    @abstractmethod\n",
    "    def drew(self):\n",
    "        pass\n",
    "    \n",
    "class TextBox(UIControl):\n",
    "    def drew(self):\n",
    "        print('TextBox')\n",
    "        \n",
    "class dropdownlist(UIControl):\n",
    "    def drew(self):\n",
    "        print('DropDownList')\n",
    "        \n"
   ]
  },
  {
   "cell_type": "code",
   "execution_count": 34,
   "id": "4dcdcdfa",
   "metadata": {},
   "outputs": [],
   "source": [
    "def drew(driver):\n",
    "    driver.drew()"
   ]
  },
  {
   "cell_type": "code",
   "execution_count": 20,
   "id": "ab96c740",
   "metadata": {},
   "outputs": [],
   "source": [
    "ddl = dropdownlist()"
   ]
  },
  {
   "cell_type": "code",
   "execution_count": 35,
   "id": "603eb161",
   "metadata": {},
   "outputs": [
    {
     "name": "stdout",
     "output_type": "stream",
     "text": [
      "DropDownList\n"
     ]
    }
   ],
   "source": [
    "drew(ddl)"
   ]
  },
  {
   "cell_type": "code",
   "execution_count": 21,
   "id": "e6b721c9",
   "metadata": {},
   "outputs": [
    {
     "name": "stdout",
     "output_type": "stream",
     "text": [
      "True\n"
     ]
    }
   ],
   "source": [
    "x = isinstance(6, int)\n",
    "\n",
    "print(x)\n"
   ]
  },
  {
   "cell_type": "code",
   "execution_count": 22,
   "id": "26fd5dac",
   "metadata": {},
   "outputs": [
    {
     "name": "stdout",
     "output_type": "stream",
     "text": [
      "True\n"
     ]
    }
   ],
   "source": [
    "print(isinstance(ddl,UIControl))"
   ]
  },
  {
   "cell_type": "code",
   "execution_count": 24,
   "id": "ecfb9f87",
   "metadata": {},
   "outputs": [],
   "source": [
    "ddl = dropdownlist()"
   ]
  },
  {
   "cell_type": "code",
   "execution_count": 25,
   "id": "630dd910",
   "metadata": {},
   "outputs": [
    {
     "name": "stdout",
     "output_type": "stream",
     "text": [
      "DropDownList\n"
     ]
    }
   ],
   "source": [
    "drew(ddl)"
   ]
  },
  {
   "cell_type": "code",
   "execution_count": 26,
   "id": "0bb2d6f0",
   "metadata": {},
   "outputs": [],
   "source": [
    "txt = TextBox()"
   ]
  },
  {
   "cell_type": "code",
   "execution_count": 27,
   "id": "cea1c464",
   "metadata": {},
   "outputs": [
    {
     "name": "stdout",
     "output_type": "stream",
     "text": [
      "TextBox\n"
     ]
    }
   ],
   "source": [
    "drew(txt)"
   ]
  },
  {
   "cell_type": "code",
   "execution_count": 29,
   "id": "18a48db0",
   "metadata": {},
   "outputs": [],
   "source": [
    "def drew(controls):\n",
    "    for control in controls:\n",
    "        control.drew()"
   ]
  },
  {
   "cell_type": "code",
   "execution_count": 30,
   "id": "78a11489",
   "metadata": {},
   "outputs": [
    {
     "name": "stdout",
     "output_type": "stream",
     "text": [
      "TextBox\n",
      "DropDownList\n"
     ]
    }
   ],
   "source": [
    "drew([txt,ddl])"
   ]
  },
  {
   "cell_type": "code",
   "execution_count": null,
   "id": "ad553ebe",
   "metadata": {},
   "outputs": [],
   "source": [
    "# Poly --> Many \n",
    "# Morphism --> Forms "
   ]
  },
  {
   "cell_type": "code",
   "execution_count": null,
   "id": "4abdd07c",
   "metadata": {},
   "outputs": [],
   "source": [
    "class UIControl(ABC):\n",
    "    @abstractmethod\n",
    "    def drew(self):\n",
    "        pass\n",
    "    \n",
    "class TextBox(UIControl):\n",
    "    def drew(self):\n",
    "        print('TextBox')\n",
    "        \n",
    "class dropdownlist(UIControl):\n",
    "    def drew(self):\n",
    "        print('DropDownList')"
   ]
  },
  {
   "cell_type": "code",
   "execution_count": null,
   "id": "28a50b4b",
   "metadata": {},
   "outputs": [],
   "source": [
    "class car(ABC):"
   ]
  }
 ],
 "metadata": {
  "kernelspec": {
   "display_name": "Python 3 (ipykernel)",
   "language": "python",
   "name": "python3"
  },
  "language_info": {
   "codemirror_mode": {
    "name": "ipython",
    "version": 3
   },
   "file_extension": ".py",
   "mimetype": "text/x-python",
   "name": "python",
   "nbconvert_exporter": "python",
   "pygments_lexer": "ipython3",
   "version": "3.10.9"
  }
 },
 "nbformat": 4,
 "nbformat_minor": 5
}
