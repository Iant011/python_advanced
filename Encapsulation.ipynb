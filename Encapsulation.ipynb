{
 "cells": [
  {
   "cell_type": "code",
   "execution_count": 1,
   "id": "1400f612",
   "metadata": {},
   "outputs": [],
   "source": [
    "class Car:\n",
    "    pass"
   ]
  },
  {
   "cell_type": "code",
   "execution_count": 2,
   "id": "ed71af78",
   "metadata": {},
   "outputs": [],
   "source": [
    "Nexon = Car()"
   ]
  },
  {
   "cell_type": "code",
   "execution_count": 3,
   "id": "2e110e1b",
   "metadata": {},
   "outputs": [],
   "source": [
    "Nexon.Milage = 20\n"
   ]
  },
  {
   "cell_type": "code",
   "execution_count": 4,
   "id": "d5af472f",
   "metadata": {},
   "outputs": [
    {
     "data": {
      "text/plain": [
       "20"
      ]
     },
     "execution_count": 4,
     "metadata": {},
     "output_type": "execute_result"
    }
   ],
   "source": [
    "Nexon.Milage"
   ]
  },
  {
   "cell_type": "code",
   "execution_count": 6,
   "id": "87210fb7",
   "metadata": {},
   "outputs": [],
   "source": [
    "Nexon.Colour = 'Red'\n",
    "Nexon.year = 2023\n",
    "Nexon.Engine = 1500\n",
    "Nexon.Model= 'Top_Model'"
   ]
  },
  {
   "cell_type": "code",
   "execution_count": 7,
   "id": "0fcae7f6",
   "metadata": {},
   "outputs": [
    {
     "data": {
      "text/plain": [
       "'Top_Model'"
      ]
     },
     "execution_count": 7,
     "metadata": {},
     "output_type": "execute_result"
    }
   ],
   "source": [
    "Nexon.Model"
   ]
  },
  {
   "cell_type": "code",
   "execution_count": 8,
   "id": "29e5223b",
   "metadata": {},
   "outputs": [],
   "source": [
    "# Over Writing"
   ]
  },
  {
   "cell_type": "code",
   "execution_count": 9,
   "id": "193569ce",
   "metadata": {},
   "outputs": [],
   "source": [
    "class phone:\n",
    "    def __init__(self,ram,storage):\n",
    "        self.ram = ram\n",
    "        self.storage = storage"
   ]
  },
  {
   "cell_type": "code",
   "execution_count": 10,
   "id": "539687af",
   "metadata": {},
   "outputs": [],
   "source": [
    "Iphone_15 = phone('8gb', 128)"
   ]
  },
  {
   "cell_type": "code",
   "execution_count": 12,
   "id": "92edfd23",
   "metadata": {},
   "outputs": [
    {
     "data": {
      "text/plain": [
       "'8gb'"
      ]
     },
     "execution_count": 12,
     "metadata": {},
     "output_type": "execute_result"
    }
   ],
   "source": [
    "Iphone_15.ram"
   ]
  },
  {
   "cell_type": "code",
   "execution_count": 13,
   "id": "afa04be2",
   "metadata": {},
   "outputs": [
    {
     "data": {
      "text/plain": [
       "128"
      ]
     },
     "execution_count": 13,
     "metadata": {},
     "output_type": "execute_result"
    }
   ],
   "source": [
    "Iphone_15.storage"
   ]
  },
  {
   "cell_type": "code",
   "execution_count": 14,
   "id": "75dbb15b",
   "metadata": {},
   "outputs": [],
   "source": [
    "Iphone_15.ram = 12"
   ]
  },
  {
   "cell_type": "code",
   "execution_count": 15,
   "id": "c33b54a3",
   "metadata": {},
   "outputs": [],
   "source": [
    "Iphone_15.storage = 256"
   ]
  },
  {
   "cell_type": "code",
   "execution_count": 16,
   "id": "044dd186",
   "metadata": {},
   "outputs": [
    {
     "data": {
      "text/plain": [
       "256"
      ]
     },
     "execution_count": 16,
     "metadata": {},
     "output_type": "execute_result"
    }
   ],
   "source": [
    "Iphone_15.storage"
   ]
  },
  {
   "cell_type": "code",
   "execution_count": 17,
   "id": "31f63447",
   "metadata": {},
   "outputs": [
    {
     "data": {
      "text/plain": [
       "12"
      ]
     },
     "execution_count": 17,
     "metadata": {},
     "output_type": "execute_result"
    }
   ],
   "source": [
    "Iphone_15.ram"
   ]
  },
  {
   "cell_type": "code",
   "execution_count": 1,
   "id": "f0b1c5b6",
   "metadata": {},
   "outputs": [],
   "source": [
    "#REcursion Algorithm"
   ]
  },
  {
   "cell_type": "code",
   "execution_count": 3,
   "id": "ab0814cb",
   "metadata": {},
   "outputs": [],
   "source": [
    "import sys\n",
    "sys.setrecursionlimit(100)"
   ]
  },
  {
   "cell_type": "code",
   "execution_count": 4,
   "id": "3d5b3ae6",
   "metadata": {},
   "outputs": [],
   "source": [
    "def code():\n",
    "    i = 0\n",
    "    i+=1\n",
    "    \n",
    "    print(\"Hello\",i)\n",
    "    \n",
    "    code()"
   ]
  },
  {
   "cell_type": "code",
   "execution_count": 5,
   "id": "36188adf",
   "metadata": {},
   "outputs": [
    {
     "name": "stdout",
     "output_type": "stream",
     "text": [
      "Hello 1\n",
      "Hello 1\n",
      "Hello 1\n",
      "Hello 1\n",
      "Hello 1\n",
      "Hello 1\n",
      "Hello 1\n",
      "Hello 1\n",
      "Hello 1\n",
      "Hello 1\n",
      "Hello 1\n",
      "Hello 1\n",
      "Hello 1\n",
      "Hello 1\n",
      "Hello 1\n",
      "Hello 1\n",
      "Hello 1\n",
      "Hello 1\n",
      "Hello 1\n",
      "Hello 1\n",
      "Hello 1\n",
      "Hello 1\n",
      "Hello 1\n",
      "Hello 1\n",
      "Hello 1\n",
      "Hello 1\n",
      "Hello 1\n",
      "Hello 1\n",
      "Hello 1\n",
      "Hello 1\n",
      "Hello 1\n",
      "Hello 1\n",
      "Hello 1\n",
      "Hello 1\n",
      "Hello 1\n",
      "Hello 1\n",
      "Hello 1\n",
      "Hello 1\n",
      "Hello 1\n",
      "Hello 1\n",
      "Hello 1\n",
      "Hello 1\n",
      "Hello 1\n",
      "Hello 1\n",
      "Hello 1\n",
      "Hello 1\n",
      "Hello 1\n",
      "Hello 1\n",
      "Hello 1\n",
      "Hello 1\n",
      "Hello 1\n",
      "Hello 1\n",
      "Hello 1\n",
      "Hello 1\n",
      "Hello 1\n",
      "Hello 1\n",
      "Hello 1\n",
      "Hello 1\n",
      "Hello 1\n",
      "Hello 1\n",
      "Hello 1\n",
      "Hello 1\n",
      "Hello 1\n",
      "Hello 1\n",
      "Hello 1\n",
      "Hello 1\n",
      "Hello 1\n",
      "Hello 1\n",
      "Hello 1\n",
      "Unexpected exception formatting exception. Falling back to standard exception\n"
     ]
    },
    {
     "name": "stderr",
     "output_type": "stream",
     "text": [
      "Traceback (most recent call last):\n",
      "  File \"C:\\Users\\ROCKSTAR\\anaconda3\\lib\\site-packages\\IPython\\core\\interactiveshell.py\", line 3460, in run_code\n",
      "    exec(code_obj, self.user_global_ns, self.user_ns)\n",
      "  File \"C:\\Users\\ROCKSTAR\\AppData\\Local\\Temp\\ipykernel_11956\\3424199228.py\", line 1, in <module>\n",
      "    code()\n",
      "  File \"C:\\Users\\ROCKSTAR\\AppData\\Local\\Temp\\ipykernel_11956\\3725824920.py\", line 7, in code\n",
      "    code()\n",
      "  File \"C:\\Users\\ROCKSTAR\\AppData\\Local\\Temp\\ipykernel_11956\\3725824920.py\", line 7, in code\n",
      "    code()\n",
      "  File \"C:\\Users\\ROCKSTAR\\AppData\\Local\\Temp\\ipykernel_11956\\3725824920.py\", line 7, in code\n",
      "    code()\n",
      "  [Previous line repeated 66 more times]\n",
      "  File \"C:\\Users\\ROCKSTAR\\AppData\\Local\\Temp\\ipykernel_11956\\3725824920.py\", line 5, in code\n",
      "    print(\"Hello\",i)\n",
      "  File \"C:\\Users\\ROCKSTAR\\anaconda3\\lib\\site-packages\\ipykernel\\iostream.py\", line 550, in write\n",
      "    is_child = not self._is_master_process()\n",
      "  File \"C:\\Users\\ROCKSTAR\\anaconda3\\lib\\site-packages\\ipykernel\\iostream.py\", line 438, in _is_master_process\n",
      "    return os.getpid() == self._master_pid\n",
      "RecursionError: maximum recursion depth exceeded while calling a Python object\n",
      "\n",
      "During handling of the above exception, another exception occurred:\n",
      "\n",
      "Traceback (most recent call last):\n",
      "  File \"C:\\Users\\ROCKSTAR\\anaconda3\\lib\\site-packages\\pygments\\lexer.py\", line 495, in _process_state\n",
      "    rex = cls._process_regex(tdef[0], rflags, state)\n",
      "  File \"C:\\Users\\ROCKSTAR\\anaconda3\\lib\\site-packages\\pygments\\lexer.py\", line 423, in _process_regex\n",
      "    regex = regex.get()\n",
      "  File \"C:\\Users\\ROCKSTAR\\anaconda3\\lib\\site-packages\\pygments\\lexer.py\", line 411, in get\n",
      "    return regex_opt(self.words, prefix=self.prefix, suffix=self.suffix)\n",
      "  File \"C:\\Users\\ROCKSTAR\\anaconda3\\lib\\site-packages\\pygments\\regexopt.py\", line 91, in regex_opt\n",
      "    return prefix + regex_opt_inner(strings, '(') + suffix\n",
      "  File \"C:\\Users\\ROCKSTAR\\anaconda3\\lib\\site-packages\\pygments\\regexopt.py\", line 77, in regex_opt_inner\n",
      "    '|'.join(regex_opt_inner(list(group[1]), '')\n",
      "  File \"C:\\Users\\ROCKSTAR\\anaconda3\\lib\\site-packages\\pygments\\regexopt.py\", line 77, in <genexpr>\n",
      "    '|'.join(regex_opt_inner(list(group[1]), '')\n",
      "  File \"C:\\Users\\ROCKSTAR\\anaconda3\\lib\\site-packages\\pygments\\regexopt.py\", line 77, in regex_opt_inner\n",
      "    '|'.join(regex_opt_inner(list(group[1]), '')\n",
      "  File \"C:\\Users\\ROCKSTAR\\anaconda3\\lib\\site-packages\\pygments\\regexopt.py\", line 77, in <genexpr>\n",
      "    '|'.join(regex_opt_inner(list(group[1]), '')\n",
      "  File \"C:\\Users\\ROCKSTAR\\anaconda3\\lib\\site-packages\\pygments\\regexopt.py\", line 77, in regex_opt_inner\n",
      "    '|'.join(regex_opt_inner(list(group[1]), '')\n",
      "  File \"C:\\Users\\ROCKSTAR\\anaconda3\\lib\\site-packages\\pygments\\regexopt.py\", line 77, in <genexpr>\n",
      "    '|'.join(regex_opt_inner(list(group[1]), '')\n",
      "  File \"C:\\Users\\ROCKSTAR\\anaconda3\\lib\\site-packages\\pygments\\regexopt.py\", line 77, in regex_opt_inner\n",
      "    '|'.join(regex_opt_inner(list(group[1]), '')\n",
      "  File \"C:\\Users\\ROCKSTAR\\anaconda3\\lib\\site-packages\\pygments\\regexopt.py\", line 77, in <genexpr>\n",
      "    '|'.join(regex_opt_inner(list(group[1]), '')\n",
      "  File \"C:\\Users\\ROCKSTAR\\anaconda3\\lib\\site-packages\\pygments\\regexopt.py\", line 77, in regex_opt_inner\n",
      "    '|'.join(regex_opt_inner(list(group[1]), '')\n",
      "  File \"C:\\Users\\ROCKSTAR\\anaconda3\\lib\\site-packages\\pygments\\regexopt.py\", line 77, in <genexpr>\n",
      "    '|'.join(regex_opt_inner(list(group[1]), '')\n",
      "  File \"C:\\Users\\ROCKSTAR\\anaconda3\\lib\\site-packages\\pygments\\regexopt.py\", line 77, in regex_opt_inner\n",
      "    '|'.join(regex_opt_inner(list(group[1]), '')\n",
      "  File \"C:\\Users\\ROCKSTAR\\anaconda3\\lib\\site-packages\\pygments\\regexopt.py\", line 77, in <genexpr>\n",
      "    '|'.join(regex_opt_inner(list(group[1]), '')\n",
      "  File \"C:\\Users\\ROCKSTAR\\anaconda3\\lib\\site-packages\\pygments\\regexopt.py\", line 77, in regex_opt_inner\n",
      "    '|'.join(regex_opt_inner(list(group[1]), '')\n",
      "  File \"C:\\Users\\ROCKSTAR\\anaconda3\\lib\\site-packages\\pygments\\regexopt.py\", line 77, in <genexpr>\n",
      "    '|'.join(regex_opt_inner(list(group[1]), '')\n",
      "  File \"C:\\Users\\ROCKSTAR\\anaconda3\\lib\\site-packages\\pygments\\regexopt.py\", line 77, in regex_opt_inner\n",
      "    '|'.join(regex_opt_inner(list(group[1]), '')\n",
      "  File \"C:\\Users\\ROCKSTAR\\anaconda3\\lib\\site-packages\\pygments\\regexopt.py\", line 77, in <genexpr>\n",
      "    '|'.join(regex_opt_inner(list(group[1]), '')\n",
      "  File \"C:\\Users\\ROCKSTAR\\anaconda3\\lib\\site-packages\\pygments\\regexopt.py\", line 77, in regex_opt_inner\n",
      "    '|'.join(regex_opt_inner(list(group[1]), '')\n",
      "  File \"C:\\Users\\ROCKSTAR\\anaconda3\\lib\\site-packages\\pygments\\regexopt.py\", line 77, in <genexpr>\n",
      "    '|'.join(regex_opt_inner(list(group[1]), '')\n",
      "  File \"C:\\Users\\ROCKSTAR\\anaconda3\\lib\\site-packages\\pygments\\regexopt.py\", line 77, in regex_opt_inner\n",
      "    '|'.join(regex_opt_inner(list(group[1]), '')\n",
      "  File \"C:\\Users\\ROCKSTAR\\anaconda3\\lib\\site-packages\\pygments\\regexopt.py\", line 77, in <genexpr>\n",
      "    '|'.join(regex_opt_inner(list(group[1]), '')\n",
      "  File \"C:\\Users\\ROCKSTAR\\anaconda3\\lib\\site-packages\\pygments\\regexopt.py\", line 77, in regex_opt_inner\n",
      "    '|'.join(regex_opt_inner(list(group[1]), '')\n",
      "  File \"C:\\Users\\ROCKSTAR\\anaconda3\\lib\\site-packages\\pygments\\regexopt.py\", line 77, in <genexpr>\n",
      "    '|'.join(regex_opt_inner(list(group[1]), '')\n",
      "  File \"C:\\Users\\ROCKSTAR\\anaconda3\\lib\\site-packages\\pygments\\regexopt.py\", line 77, in regex_opt_inner\n",
      "    '|'.join(regex_opt_inner(list(group[1]), '')\n",
      "  File \"C:\\Users\\ROCKSTAR\\anaconda3\\lib\\site-packages\\pygments\\regexopt.py\", line 77, in <genexpr>\n",
      "    '|'.join(regex_opt_inner(list(group[1]), '')\n",
      "  File \"C:\\Users\\ROCKSTAR\\anaconda3\\lib\\site-packages\\pygments\\regexopt.py\", line 77, in regex_opt_inner\n",
      "    '|'.join(regex_opt_inner(list(group[1]), '')\n",
      "  File \"C:\\Users\\ROCKSTAR\\anaconda3\\lib\\site-packages\\pygments\\regexopt.py\", line 77, in <genexpr>\n",
      "    '|'.join(regex_opt_inner(list(group[1]), '')\n",
      "  File \"C:\\Users\\ROCKSTAR\\anaconda3\\lib\\site-packages\\pygments\\regexopt.py\", line 77, in regex_opt_inner\n",
      "    '|'.join(regex_opt_inner(list(group[1]), '')\n",
      "  File \"C:\\Users\\ROCKSTAR\\anaconda3\\lib\\site-packages\\pygments\\regexopt.py\", line 77, in <genexpr>\n",
      "    '|'.join(regex_opt_inner(list(group[1]), '')\n",
      "  File \"C:\\Users\\ROCKSTAR\\anaconda3\\lib\\site-packages\\pygments\\regexopt.py\", line 63, in regex_opt_inner\n",
      "    + regex_opt_inner([s[plen:] for s in strings], '(?:') \\\n",
      "  File \"C:\\Users\\ROCKSTAR\\anaconda3\\lib\\site-packages\\pygments\\regexopt.py\", line 77, in regex_opt_inner\n",
      "    '|'.join(regex_opt_inner(list(group[1]), '')\n",
      "  File \"C:\\Users\\ROCKSTAR\\anaconda3\\lib\\site-packages\\pygments\\regexopt.py\", line 77, in <genexpr>\n",
      "    '|'.join(regex_opt_inner(list(group[1]), '')\n",
      "  File \"C:\\Users\\ROCKSTAR\\anaconda3\\lib\\site-packages\\pygments\\regexopt.py\", line 77, in regex_opt_inner\n",
      "    '|'.join(regex_opt_inner(list(group[1]), '')\n",
      "  File \"C:\\Users\\ROCKSTAR\\anaconda3\\lib\\site-packages\\pygments\\regexopt.py\", line 77, in <genexpr>\n",
      "    '|'.join(regex_opt_inner(list(group[1]), '')\n",
      "  File \"C:\\Users\\ROCKSTAR\\anaconda3\\lib\\site-packages\\pygments\\regexopt.py\", line 77, in regex_opt_inner\n",
      "    '|'.join(regex_opt_inner(list(group[1]), '')\n",
      "  File \"C:\\Users\\ROCKSTAR\\anaconda3\\lib\\site-packages\\pygments\\regexopt.py\", line 77, in <genexpr>\n",
      "    '|'.join(regex_opt_inner(list(group[1]), '')\n",
      "  File \"C:\\Users\\ROCKSTAR\\anaconda3\\lib\\site-packages\\pygments\\regexopt.py\", line 36, in regex_opt_inner\n",
      "    return open_paren + escape(first) + close_paren\n",
      "  File \"C:\\Users\\ROCKSTAR\\anaconda3\\lib\\re.py\", line 273, in escape\n",
      "    if isinstance(pattern, str):\n",
      "RecursionError: maximum recursion depth exceeded while calling a Python object\n",
      "\n",
      "The above exception was the direct cause of the following exception:\n",
      "\n",
      "Traceback (most recent call last):\n",
      "  File \"C:\\Users\\ROCKSTAR\\anaconda3\\lib\\site-packages\\IPython\\core\\interactiveshell.py\", line 2057, in showtraceback\n",
      "    stb = self.InteractiveTB.structured_traceback(\n",
      "  File \"C:\\Users\\ROCKSTAR\\anaconda3\\lib\\site-packages\\IPython\\core\\ultratb.py\", line 1118, in structured_traceback\n",
      "    return FormattedTB.structured_traceback(\n",
      "  File \"C:\\Users\\ROCKSTAR\\anaconda3\\lib\\site-packages\\IPython\\core\\ultratb.py\", line 1012, in structured_traceback\n",
      "    return VerboseTB.structured_traceback(\n",
      "  File \"C:\\Users\\ROCKSTAR\\anaconda3\\lib\\site-packages\\IPython\\core\\ultratb.py\", line 865, in structured_traceback\n",
      "    formatted_exception = self.format_exception_as_a_whole(etype, evalue, etb, number_of_lines_of_context,\n",
      "  File \"C:\\Users\\ROCKSTAR\\anaconda3\\lib\\site-packages\\IPython\\core\\ultratb.py\", line 818, in format_exception_as_a_whole\n",
      "    frames.append(self.format_record(r))\n",
      "  File \"C:\\Users\\ROCKSTAR\\anaconda3\\lib\\site-packages\\IPython\\core\\ultratb.py\", line 736, in format_record\n",
      "    result += ''.join(_format_traceback_lines(frame_info.lines, Colors, self.has_colors, lvals))\n",
      "  File \"C:\\Users\\ROCKSTAR\\anaconda3\\lib\\site-packages\\IPython\\core\\ultratb.py\", line 155, in _format_traceback_lines\n",
      "    line = stack_line.render(pygmented=has_colors).rstrip('\\n') + '\\n'\n",
      "  File \"C:\\Users\\ROCKSTAR\\anaconda3\\lib\\site-packages\\stack_data\\core.py\", line 360, in render\n",
      "    start_line, lines = self.frame_info._pygmented_scope_lines\n",
      "  File \"C:\\Users\\ROCKSTAR\\anaconda3\\lib\\site-packages\\stack_data\\utils.py\", line 145, in cached_property_wrapper\n",
      "    value = obj.__dict__[self.func.__name__] = self.func(obj)\n",
      "  File \"C:\\Users\\ROCKSTAR\\anaconda3\\lib\\site-packages\\stack_data\\core.py\", line 780, in _pygmented_scope_lines\n",
      "    lines = _pygmented_with_ranges(formatter, code, ranges)\n",
      "  File \"C:\\Users\\ROCKSTAR\\anaconda3\\lib\\site-packages\\stack_data\\utils.py\", line 155, in _pygmented_with_ranges\n",
      "    class MyLexer(type(get_lexer_by_name(\"python3\"))):\n",
      "  File \"C:\\Users\\ROCKSTAR\\anaconda3\\lib\\site-packages\\pygments\\lexers\\__init__.py\", line 113, in get_lexer_by_name\n",
      "    return _lexer_cache[name](**options)\n",
      "  File \"C:\\Users\\ROCKSTAR\\anaconda3\\lib\\site-packages\\pygments\\lexer.py\", line 577, in __call__\n",
      "    cls._tokens = cls.process_tokendef('', cls.get_tokendefs())\n",
      "  File \"C:\\Users\\ROCKSTAR\\anaconda3\\lib\\site-packages\\pygments\\lexer.py\", line 516, in process_tokendef\n",
      "    cls._process_state(tokendefs, processed, state)\n",
      "  File \"C:\\Users\\ROCKSTAR\\anaconda3\\lib\\site-packages\\pygments\\lexer.py\", line 479, in _process_state\n",
      "    tokens.extend(cls._process_state(unprocessed, processed,\n",
      "  File \"C:\\Users\\ROCKSTAR\\anaconda3\\lib\\site-packages\\pygments\\lexer.py\", line 479, in _process_state\n",
      "    tokens.extend(cls._process_state(unprocessed, processed,\n",
      "  File \"C:\\Users\\ROCKSTAR\\anaconda3\\lib\\site-packages\\pygments\\lexer.py\", line 497, in _process_state\n",
      "    raise ValueError(\"uncompilable regex %r in state %r of %r: %s\" %\n",
      "ValueError: uncompilable regex <pygments.lexer.words object at 0x000001EE47AA48B0> in state 'builtins' of <class 'pygments.lexers.python.PythonLexer'>: maximum recursion depth exceeded while calling a Python object\n"
     ]
    }
   ],
   "source": [
    "code()"
   ]
  },
  {
   "cell_type": "code",
   "execution_count": 6,
   "id": "c90e7614",
   "metadata": {},
   "outputs": [],
   "source": [
    "def fact(n):\n",
    "    if n == 0:\n",
    "        return 1\n",
    "    \n",
    "    return n * fact(n-1)"
   ]
  },
  {
   "cell_type": "code",
   "execution_count": 7,
   "id": "734cecf9",
   "metadata": {},
   "outputs": [
    {
     "data": {
      "text/plain": [
       "120"
      ]
     },
     "execution_count": 7,
     "metadata": {},
     "output_type": "execute_result"
    }
   ],
   "source": [
    "fact(5)"
   ]
  },
  {
   "cell_type": "code",
   "execution_count": null,
   "id": "b349629e",
   "metadata": {},
   "outputs": [],
   "source": []
  }
 ],
 "metadata": {
  "kernelspec": {
   "display_name": "Python 3 (ipykernel)",
   "language": "python",
   "name": "python3"
  },
  "language_info": {
   "codemirror_mode": {
    "name": "ipython",
    "version": 3
   },
   "file_extension": ".py",
   "mimetype": "text/x-python",
   "name": "python",
   "nbconvert_exporter": "python",
   "pygments_lexer": "ipython3",
   "version": "3.10.9"
  }
 },
 "nbformat": 4,
 "nbformat_minor": 5
}
