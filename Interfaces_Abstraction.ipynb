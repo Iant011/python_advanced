{
 "cells": [
  {
   "cell_type": "markdown",
   "id": "e19d34af",
   "metadata": {},
   "source": [
    "# Interfaces_AND_Abstraction"
   ]
  },
  {
   "cell_type": "code",
   "execution_count": 12,
   "id": "68fdf88b",
   "metadata": {},
   "outputs": [],
   "source": [
    "from abc import ABC, abstractclassmethod"
   ]
  },
  {
   "cell_type": "code",
   "execution_count": 13,
   "id": "0ed76a8e",
   "metadata": {},
   "outputs": [],
   "source": [
    "class phone(ABC):\n",
    "    def Show(self):\n",
    "        print(\"Every Phone has body\")\n",
    "        \n",
    "    @abstractclassmethod\n",
    "    def camera(self):\n",
    "        pass\n",
    "    \n",
    "class Iphone(phone):\n",
    "    def camera(self):\n",
    "        print(\"This can capture Pictures\")\n",
    "        \n",
    "class Samsung(phone):\n",
    "    def camera(self):\n",
    "        print(\"This can capture Pictures\")"
   ]
  },
  {
   "cell_type": "code",
   "execution_count": 14,
   "id": "602fd01d",
   "metadata": {},
   "outputs": [],
   "source": [
    "Iphone_11 = Iphone()"
   ]
  },
  {
   "cell_type": "code",
   "execution_count": 15,
   "id": "046fadc5",
   "metadata": {},
   "outputs": [
    {
     "name": "stdout",
     "output_type": "stream",
     "text": [
      "This can capture Pictures\n"
     ]
    }
   ],
   "source": [
    "Iphone_11.camera()"
   ]
  },
  {
   "cell_type": "code",
   "execution_count": 16,
   "id": "72b716a3",
   "metadata": {},
   "outputs": [
    {
     "ename": "TypeError",
     "evalue": "Can't instantiate abstract class phone with abstract method camera",
     "output_type": "error",
     "traceback": [
      "\u001b[1;31m---------------------------------------------------------------------------\u001b[0m",
      "\u001b[1;31mTypeError\u001b[0m                                 Traceback (most recent call last)",
      "Cell \u001b[1;32mIn[16], line 1\u001b[0m\n\u001b[1;32m----> 1\u001b[0m Simple_phone \u001b[38;5;241m=\u001b[39m \u001b[43mphone\u001b[49m\u001b[43m(\u001b[49m\u001b[43m)\u001b[49m\n",
      "\u001b[1;31mTypeError\u001b[0m: Can't instantiate abstract class phone with abstract method camera"
     ]
    }
   ],
   "source": [
    "Simple_phone = phone()"
   ]
  },
  {
   "cell_type": "code",
   "execution_count": null,
   "id": "9998d559",
   "metadata": {},
   "outputs": [],
   "source": []
  },
  {
   "cell_type": "code",
   "execution_count": 5,
   "id": "0723c7b7",
   "metadata": {},
   "outputs": [],
   "source": [
    "class CAR:\n",
    "    def Show(self):\n",
    "        print(\"Every Phone has body\")\n",
    "        \n",
    "    def door(self):\n",
    "        pass\n",
    "    \n",
    "class SUZUKI (CAR):\n",
    "    def door(self):\n",
    "        print(\"SUZUKI has 4 doors\")\n",
    "        \n",
    "class TATA(CAR):\n",
    "    def door(self):\n",
    "        print(\"Tata has 4 doors\")"
   ]
  },
  {
   "cell_type": "code",
   "execution_count": 6,
   "id": "0e1f74da",
   "metadata": {},
   "outputs": [],
   "source": [
    "obj = SUZUKI()"
   ]
  },
  {
   "cell_type": "code",
   "execution_count": 7,
   "id": "817575c3",
   "metadata": {},
   "outputs": [
    {
     "name": "stdout",
     "output_type": "stream",
     "text": [
      "SUZUKI has 4 doors\n"
     ]
    }
   ],
   "source": [
    "obj.door()"
   ]
  },
  {
   "cell_type": "code",
   "execution_count": 9,
   "id": "9708c3f5",
   "metadata": {},
   "outputs": [],
   "source": [
    "obj1 = CAR()"
   ]
  },
  {
   "cell_type": "code",
   "execution_count": 10,
   "id": "cb3c4c51",
   "metadata": {},
   "outputs": [],
   "source": [
    "obj1.door()"
   ]
  },
  {
   "cell_type": "code",
   "execution_count": null,
   "id": "12e015a8",
   "metadata": {},
   "outputs": [],
   "source": []
  },
  {
   "cell_type": "code",
   "execution_count": null,
   "id": "98086dd9",
   "metadata": {},
   "outputs": [],
   "source": []
  },
  {
   "cell_type": "code",
   "execution_count": null,
   "id": "c6e4868f",
   "metadata": {},
   "outputs": [],
   "source": [
    "from abc import ABC, abstractclassmethod"
   ]
  },
  {
   "cell_type": "code",
   "execution_count": 17,
   "id": "f0248d35",
   "metadata": {},
   "outputs": [],
   "source": [
    "class Draw(ABC):\n",
    "    \n",
    "    \n",
    "    @abstractclassmethod\n",
    "    def drawing(self):\n",
    "        pass \n",
    "    \n",
    "class Circle(Draw):\n",
    "    def drawing(self):\n",
    "        print(\"Drawing of circle\")\n",
    "        \n",
    "        \n",
    "class Rectangle(Draw):\n",
    "    def drawing(self):\n",
    "        print(\"Drawing of Rectangle\")"
   ]
  },
  {
   "cell_type": "code",
   "execution_count": 19,
   "id": "7473e3e4",
   "metadata": {},
   "outputs": [],
   "source": [
    "obj2 = Circle()"
   ]
  },
  {
   "cell_type": "code",
   "execution_count": 20,
   "id": "161698cf",
   "metadata": {},
   "outputs": [
    {
     "name": "stdout",
     "output_type": "stream",
     "text": [
      "Drawing of circle\n"
     ]
    }
   ],
   "source": [
    "obj2.drawing()"
   ]
  },
  {
   "cell_type": "code",
   "execution_count": 21,
   "id": "1f66e79a",
   "metadata": {},
   "outputs": [],
   "source": [
    "obj3 = Rectangle()"
   ]
  },
  {
   "cell_type": "code",
   "execution_count": 22,
   "id": "8d8b7a31",
   "metadata": {},
   "outputs": [
    {
     "name": "stdout",
     "output_type": "stream",
     "text": [
      "Drawing of Rectangle\n"
     ]
    }
   ],
   "source": [
    "obj3.drawing()"
   ]
  },
  {
   "cell_type": "code",
   "execution_count": null,
   "id": "c95138ad",
   "metadata": {},
   "outputs": [],
   "source": []
  }
 ],
 "metadata": {
  "kernelspec": {
   "display_name": "Python 3 (ipykernel)",
   "language": "python",
   "name": "python3"
  },
  "language_info": {
   "codemirror_mode": {
    "name": "ipython",
    "version": 3
   },
   "file_extension": ".py",
   "mimetype": "text/x-python",
   "name": "python",
   "nbconvert_exporter": "python",
   "pygments_lexer": "ipython3",
   "version": "3.10.9"
  }
 },
 "nbformat": 4,
 "nbformat_minor": 5
}
