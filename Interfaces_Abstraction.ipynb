{
 "cells": [
  {
   "cell_type": "markdown",
   "id": "fe708a2c",
   "metadata": {},
   "source": [
    "# Interfaces_AND_Abstraction"
   ]
  },
  {
   "cell_type": "code",
   "execution_count": 12,
   "id": "a027c751",
   "metadata": {},
   "outputs": [],
   "source": [
    "from abc import ABC, abstractclassmethod"
   ]
  },
  {
   "cell_type": "code",
   "execution_count": 23,
   "id": "755c91df",
   "metadata": {},
   "outputs": [],
   "source": [
    "class phone(ABC):\n",
    "    def Show(self):\n",
    "        print(\"Every Phone has body\")\n",
    "        \n",
    "    @abstractclassmethod\n",
    "    def camera(self):\n",
    "        pass\n",
    "    \n",
    "class Iphone(phone):\n",
    "    def camera(self):\n",
    "        print(\"This can capture Pictures\")\n",
    "        \n",
    "class Samsung(phone):\n",
    "    def camera(self):\n",
    "        print(\"This can capture Pictures\")"
   ]
  },
  {
   "cell_type": "code",
   "execution_count": 14,
   "id": "a32c4552",
   "metadata": {},
   "outputs": [],
   "source": [
    "Iphone_11 = Iphone()"
   ]
  },
  {
   "cell_type": "code",
   "execution_count": 15,
   "id": "0407fee3",
   "metadata": {},
   "outputs": [
    {
     "name": "stdout",
     "output_type": "stream",
     "text": [
      "This can capture Pictures\n"
     ]
    }
   ],
   "source": [
    "Iphone_11.camera()"
   ]
  },
  {
   "cell_type": "code",
   "execution_count": 16,
   "id": "d42f3724",
   "metadata": {},
   "outputs": [
    {
     "ename": "TypeError",
     "evalue": "Can't instantiate abstract class phone with abstract method camera",
     "output_type": "error",
     "traceback": [
      "\u001b[1;31m---------------------------------------------------------------------------\u001b[0m",
      "\u001b[1;31mTypeError\u001b[0m                                 Traceback (most recent call last)",
      "Cell \u001b[1;32mIn[16], line 1\u001b[0m\n\u001b[1;32m----> 1\u001b[0m Simple_phone \u001b[38;5;241m=\u001b[39m \u001b[43mphone\u001b[49m\u001b[43m(\u001b[49m\u001b[43m)\u001b[49m\n",
      "\u001b[1;31mTypeError\u001b[0m: Can't instantiate abstract class phone with abstract method camera"
     ]
    }
   ],
   "source": [
    "Simple_phone = phone()"
   ]
  },
  {
   "cell_type": "code",
   "execution_count": null,
   "id": "264f0581",
   "metadata": {},
   "outputs": [],
   "source": []
  },
  {
   "cell_type": "code",
   "execution_count": 5,
   "id": "595ad8a1",
   "metadata": {},
   "outputs": [],
   "source": [
    "class CAR:\n",
    "    def Show(self):\n",
    "        print(\"Every Phone has body\")\n",
    "        \n",
    "    def door(self):\n",
    "        pass\n",
    "    \n",
    "class SUZUKI (CAR):\n",
    "    def door(self):\n",
    "        print(\"SUZUKI has 4 doors\")\n",
    "        \n",
    "class TATA(CAR):\n",
    "    def door(self):\n",
    "        print(\"Tata has 4 doors\")"
   ]
  },
  {
   "cell_type": "code",
   "execution_count": 6,
   "id": "bef05237",
   "metadata": {},
   "outputs": [],
   "source": [
    "obj = SUZUKI()"
   ]
  },
  {
   "cell_type": "code",
   "execution_count": 7,
   "id": "81350f32",
   "metadata": {},
   "outputs": [
    {
     "name": "stdout",
     "output_type": "stream",
     "text": [
      "SUZUKI has 4 doors\n"
     ]
    }
   ],
   "source": [
    "obj.door()"
   ]
  },
  {
   "cell_type": "code",
   "execution_count": 9,
   "id": "78cc089f",
   "metadata": {},
   "outputs": [],
   "source": [
    "obj1 = CAR()"
   ]
  },
  {
   "cell_type": "code",
   "execution_count": 10,
   "id": "084668e8",
   "metadata": {},
   "outputs": [],
   "source": [
    "obj1.door()"
   ]
  },
  {
   "cell_type": "code",
   "execution_count": null,
   "id": "f61b8be8",
   "metadata": {},
   "outputs": [],
   "source": []
  },
  {
   "cell_type": "code",
   "execution_count": null,
   "id": "a2224edb",
   "metadata": {},
   "outputs": [],
   "source": []
  },
  {
   "cell_type": "code",
   "execution_count": null,
   "id": "7efd39e1",
   "metadata": {},
   "outputs": [],
   "source": [
    "from abc import ABC, abstractclassmethod"
   ]
  },
  {
   "cell_type": "code",
   "execution_count": 17,
   "id": "f5f34ccb",
   "metadata": {},
   "outputs": [],
   "source": [
    "class Draw(ABC):\n",
    "    \n",
    "    \n",
    "    @abstractclassmethod\n",
    "    def drawing(self):\n",
    "        pass \n",
    "    \n",
    "class Circle(Draw):\n",
    "    def drawing(self):\n",
    "        print(\"Drawing of circle\")\n",
    "        \n",
    "        \n",
    "class Rectangle(Draw):\n",
    "    def drawing(self):\n",
    "        print(\"Drawing of Rectangle\")"
   ]
  },
  {
   "cell_type": "code",
   "execution_count": 19,
   "id": "9ed5e5bf",
   "metadata": {},
   "outputs": [],
   "source": [
    "obj2 = Circle()"
   ]
  },
  {
   "cell_type": "code",
   "execution_count": 20,
   "id": "4c830f96",
   "metadata": {},
   "outputs": [
    {
     "name": "stdout",
     "output_type": "stream",
     "text": [
      "Drawing of circle\n"
     ]
    }
   ],
   "source": [
    "obj2.drawing()"
   ]
  },
  {
   "cell_type": "code",
   "execution_count": 21,
   "id": "3ba369eb",
   "metadata": {},
   "outputs": [],
   "source": [
    "obj3 = Rectangle()"
   ]
  },
  {
   "cell_type": "code",
   "execution_count": 22,
   "id": "a526733b",
   "metadata": {},
   "outputs": [
    {
     "name": "stdout",
     "output_type": "stream",
     "text": [
      "Drawing of Rectangle\n"
     ]
    }
   ],
   "source": [
    "obj3.drawing()"
   ]
  },
  {
   "cell_type": "code",
   "execution_count": null,
   "id": "0fd49796",
   "metadata": {},
   "outputs": [],
   "source": []
  }
 ],
 "metadata": {
  "kernelspec": {
   "display_name": "Python 3 (ipykernel)",
   "language": "python",
   "name": "python3"
  },
  "language_info": {
   "codemirror_mode": {
    "name": "ipython",
    "version": 3
   },
   "file_extension": ".py",
   "mimetype": "text/x-python",
   "name": "python",
   "nbconvert_exporter": "python",
   "pygments_lexer": "ipython3",
   "version": "3.10.9"
  }
 },
 "nbformat": 4,
 "nbformat_minor": 5
}
