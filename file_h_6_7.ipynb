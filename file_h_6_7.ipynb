{
 "cells": [
  {
   "cell_type": "code",
   "execution_count": 4,
   "id": "01a78cb2",
   "metadata": {},
   "outputs": [
    {
     "name": "stdout",
     "output_type": "stream",
     "text": [
      " Volume in drive C is Windows\n",
      " Volume Serial Number is BAE7-516A\n",
      "\n",
      " Directory of C:\\Users\\ROCKSTAR\\Documents\\Iant\\Data_science\\Python\\Python advanced\\CD_impliment\n",
      "\n",
      "09/05/2023  18:33    <DIR>          .\n",
      "09/05/2023  18:33    <DIR>          ..\n",
      "09/05/2023  18:33    <DIR>          .ipynb_checkpoints\n",
      "09/05/2023  14:00    <DIR>          1-2_online_batch\n",
      "09/05/2023  18:28               994 file_h_6_7.ipynb\n",
      "09/02/2023  14:56               589 file_handling.ipynb\n",
      "09/04/2023  19:08         2,168,961 Iterater&generator.ipynb\n",
      "               3 File(s)      2,170,544 bytes\n",
      "               4 Dir(s)  184,474,497,024 bytes free\n"
     ]
    }
   ],
   "source": [
    "%ls"
   ]
  },
  {
   "cell_type": "code",
   "execution_count": 5,
   "id": "87641a36",
   "metadata": {},
   "outputs": [],
   "source": [
    "f = open('IANT_5_6', 'w') #write"
   ]
  },
  {
   "cell_type": "code",
   "execution_count": 6,
   "id": "56a947a3",
   "metadata": {},
   "outputs": [
    {
     "data": {
      "text/plain": [
       "21"
      ]
     },
     "execution_count": 6,
     "metadata": {},
     "output_type": "execute_result"
    }
   ],
   "source": [
    "f.write('This is my first file')"
   ]
  },
  {
   "cell_type": "code",
   "execution_count": 7,
   "id": "6648cb09",
   "metadata": {},
   "outputs": [],
   "source": [
    "f.close()"
   ]
  },
  {
   "cell_type": "code",
   "execution_count": 9,
   "id": "3850f8c0",
   "metadata": {},
   "outputs": [],
   "source": [
    "f = open('IANT_5_6')"
   ]
  },
  {
   "cell_type": "code",
   "execution_count": 10,
   "id": "0f02005a",
   "metadata": {},
   "outputs": [
    {
     "data": {
      "text/plain": [
       "'This is my first file'"
      ]
     },
     "execution_count": 10,
     "metadata": {},
     "output_type": "execute_result"
    }
   ],
   "source": [
    "f.read()"
   ]
  },
  {
   "cell_type": "code",
   "execution_count": 11,
   "id": "516a038b",
   "metadata": {},
   "outputs": [
    {
     "ename": "UnsupportedOperation",
     "evalue": "not writable",
     "output_type": "error",
     "traceback": [
      "\u001b[1;31m---------------------------------------------------------------------------\u001b[0m",
      "\u001b[1;31mUnsupportedOperation\u001b[0m                      Traceback (most recent call last)",
      "Cell \u001b[1;32mIn[11], line 1\u001b[0m\n\u001b[1;32m----> 1\u001b[0m \u001b[43mf\u001b[49m\u001b[38;5;241;43m.\u001b[39;49m\u001b[43mwrite\u001b[49m\u001b[43m(\u001b[49m\u001b[38;5;124;43m\"\u001b[39;49m\u001b[38;5;124;43m454\u001b[39;49m\u001b[38;5;124;43m\"\u001b[39;49m\u001b[43m)\u001b[49m\n",
      "\u001b[1;31mUnsupportedOperation\u001b[0m: not writable"
     ]
    }
   ],
   "source": [
    "f.write(\"454\")"
   ]
  },
  {
   "cell_type": "code",
   "execution_count": 12,
   "id": "d7f3d16f",
   "metadata": {},
   "outputs": [],
   "source": [
    "f.close()"
   ]
  },
  {
   "cell_type": "code",
   "execution_count": 13,
   "id": "9e8c2345",
   "metadata": {},
   "outputs": [],
   "source": [
    "f = open('IANT_5_6', 'r+')       # both read + write"
   ]
  },
  {
   "cell_type": "code",
   "execution_count": 14,
   "id": "97091166",
   "metadata": {},
   "outputs": [
    {
     "data": {
      "text/plain": [
       "'This is my first file'"
      ]
     },
     "execution_count": 14,
     "metadata": {},
     "output_type": "execute_result"
    }
   ],
   "source": [
    "f.read()"
   ]
  },
  {
   "cell_type": "code",
   "execution_count": 15,
   "id": "eeb8b652",
   "metadata": {},
   "outputs": [
    {
     "data": {
      "text/plain": [
       "24"
      ]
     },
     "execution_count": 15,
     "metadata": {},
     "output_type": "execute_result"
    }
   ],
   "source": [
    "f.write('THis is my send sentence')"
   ]
  },
  {
   "cell_type": "code",
   "execution_count": 16,
   "id": "89329d14",
   "metadata": {},
   "outputs": [
    {
     "data": {
      "text/plain": [
       "''"
      ]
     },
     "execution_count": 16,
     "metadata": {},
     "output_type": "execute_result"
    }
   ],
   "source": [
    "f.read()"
   ]
  },
  {
   "cell_type": "code",
   "execution_count": 17,
   "id": "20fedd55",
   "metadata": {},
   "outputs": [
    {
     "data": {
      "text/plain": [
       "0"
      ]
     },
     "execution_count": 17,
     "metadata": {},
     "output_type": "execute_result"
    }
   ],
   "source": [
    "f.seek(0)"
   ]
  },
  {
   "cell_type": "code",
   "execution_count": 18,
   "id": "a389a950",
   "metadata": {},
   "outputs": [
    {
     "data": {
      "text/plain": [
       "'This is my first fileTHis is my send sentence'"
      ]
     },
     "execution_count": 18,
     "metadata": {},
     "output_type": "execute_result"
    }
   ],
   "source": [
    "f.read()"
   ]
  },
  {
   "cell_type": "code",
   "execution_count": 19,
   "id": "6e9cec2a",
   "metadata": {},
   "outputs": [
    {
     "data": {
      "text/plain": [
       "''"
      ]
     },
     "execution_count": 19,
     "metadata": {},
     "output_type": "execute_result"
    }
   ],
   "source": [
    "f.read()"
   ]
  },
  {
   "cell_type": "code",
   "execution_count": 21,
   "id": "0a50477a",
   "metadata": {},
   "outputs": [
    {
     "data": {
      "text/plain": [
       "5"
      ]
     },
     "execution_count": 21,
     "metadata": {},
     "output_type": "execute_result"
    }
   ],
   "source": [
    "f.seek(5)"
   ]
  },
  {
   "cell_type": "code",
   "execution_count": 22,
   "id": "8805085b",
   "metadata": {},
   "outputs": [
    {
     "data": {
      "text/plain": [
       "'is my first fileTHis is my send sentence'"
      ]
     },
     "execution_count": 22,
     "metadata": {},
     "output_type": "execute_result"
    }
   ],
   "source": [
    "f.read()"
   ]
  },
  {
   "cell_type": "code",
   "execution_count": 24,
   "id": "303157f5",
   "metadata": {},
   "outputs": [
    {
     "data": {
      "text/plain": [
       "45"
      ]
     },
     "execution_count": 24,
     "metadata": {},
     "output_type": "execute_result"
    }
   ],
   "source": [
    "f.tell()"
   ]
  },
  {
   "cell_type": "code",
   "execution_count": 25,
   "id": "d681f6cf",
   "metadata": {},
   "outputs": [
    {
     "data": {
      "text/plain": [
       "5"
      ]
     },
     "execution_count": 25,
     "metadata": {},
     "output_type": "execute_result"
    }
   ],
   "source": [
    "f.seek(5)"
   ]
  },
  {
   "cell_type": "code",
   "execution_count": 26,
   "id": "412c11f6",
   "metadata": {},
   "outputs": [
    {
     "data": {
      "text/plain": [
       "5"
      ]
     },
     "execution_count": 26,
     "metadata": {},
     "output_type": "execute_result"
    }
   ],
   "source": [
    "f.tell()"
   ]
  },
  {
   "cell_type": "code",
   "execution_count": 27,
   "id": "b1422fe4",
   "metadata": {},
   "outputs": [
    {
     "data": {
      "text/plain": [
       "0"
      ]
     },
     "execution_count": 27,
     "metadata": {},
     "output_type": "execute_result"
    }
   ],
   "source": [
    "f.seek(0)"
   ]
  },
  {
   "cell_type": "code",
   "execution_count": 28,
   "id": "409b53e1",
   "metadata": {},
   "outputs": [
    {
     "data": {
      "text/plain": [
       "'This is my first fileTHis is my send sentence'"
      ]
     },
     "execution_count": 28,
     "metadata": {},
     "output_type": "execute_result"
    }
   ],
   "source": [
    "f.readline()"
   ]
  },
  {
   "cell_type": "code",
   "execution_count": 29,
   "id": "15b2c9fb",
   "metadata": {},
   "outputs": [],
   "source": [
    "f.close()"
   ]
  },
  {
   "cell_type": "code",
   "execution_count": 31,
   "id": "baca3d27",
   "metadata": {},
   "outputs": [],
   "source": [
    "f = open('Google_data', 'w')"
   ]
  },
  {
   "cell_type": "code",
   "execution_count": 32,
   "id": "450db386",
   "metadata": {},
   "outputs": [
    {
     "data": {
      "text/plain": [
       "3013"
      ]
     },
     "execution_count": 32,
     "metadata": {},
     "output_type": "execute_result"
    }
   ],
   "source": [
    "f.write(\"\"\"Google LLC is an American multinational technology company that specializes in\n",
    "Internet-related services and products, which include online advertising\n",
    "technologies, a search engine, cloud computing, software, and hardware. It is\n",
    "considered one of the Big Five companies in the American information technology\n",
    "industry, along with Amazon, Apple, Meta (Facebook) and Microsoft.[10]\\n\\nGoogle\n",
    "was founded on September 4, 1998, by Larry Page and Sergey Brin while they were\n",
    "Ph.D. students at Stanford University in California. Together they own about 14%\n",
    "of its publicly-listed shares and control 56% of the stockholder voting power\n",
    "through super-voting stock. The company went public via an initial public\n",
    "offering (IPO) in 2004. In 2015, Google was reorganized as a wholly-owned\n",
    "subsidiary of Alphabet Inc.. Google is Alphabet's largest subsidiary and is aholding company for Alphabet's Internet properties and interests. Sundar Pichai was appointed CEO of Google on October 24, 2015, replacing Larry Page, who became the CEO of Alphabet. On December 3, 2019, Pichai also became the CEO of Alphabet. [11] \\n\\nIn 2021, the Alphabet Workers Union was founded, mainly composed of Google employees. [12] \\n\\nThe company's rapid growth since incorporation has included products, acquisitions, and partnerships beyond Google's core search engine, (Google Search). It offers services designed for work and productivity (Google Docs, Google Sheets, and Google Slides), email (Gmail), scheduling and time management (Google Calendar), cloud storage (Google Drive), instant messaging and video chat (Google Duo, Google Chat, and Google Meet), language translation (Google Translate), mapping and navigation (Google Maps, Waze, Google Earth, and Street View), podcast hosting (Google Podcasts), video sharing (YouTube), blog publishing (Blogger), note-taking (Google Keep and Jamboard), and photo organizing and editing (Google Photos). The company leads the development of the Android mobile operating system, the Google Chrome web browser, and Chrome OS (a lightweight, proprietary operating system based on the free and open-source Chromium OS operating system). Google has moved increasingly into hardware; from 2010 to 2015, it partnered with major electronics manufacturers in the production of its Google Nexus devices, and it released multiple hardware products in 2016, including the Google Pixel line of smartphones, Google Home smart speaker, Google Wifi mesh wireless router. Google has also experimented with becoming an Internet carrier (Google Fiber and Google Fi).\\n\\nGoogle.com is the most visited website worldwide. Several other Google- owned websites also are on the list of most popular websites, including YouTube and Blogger. [13] On the list of most valuable brands, Google is ranked second by Forbes [14] and fourth by Interbrand. [15] It has received significant criticism involving issues such as privacy concerns, tax avoidance, censorship, search neutrality, antitrust and abuse of its monopoly position.\"\"\")"
   ]
  },
  {
   "cell_type": "code",
   "execution_count": 34,
   "id": "3c17320d",
   "metadata": {},
   "outputs": [],
   "source": [
    "f.close()"
   ]
  },
  {
   "cell_type": "code",
   "execution_count": 35,
   "id": "68f66939",
   "metadata": {},
   "outputs": [],
   "source": [
    "f = open('Google_data', 'r+')"
   ]
  },
  {
   "cell_type": "code",
   "execution_count": 36,
   "id": "ffc84325",
   "metadata": {},
   "outputs": [
    {
     "data": {
      "text/plain": [
       "\"Google LLC is an American multinational technology company that specializes in\\nInternet-related services and products, which include online advertising\\ntechnologies, a search engine, cloud computing, software, and hardware. It is\\nconsidered one of the Big Five companies in the American information technology\\nindustry, along with Amazon, Apple, Meta (Facebook) and Microsoft.[10]\\n\\nGoogle\\nwas founded on September 4, 1998, by Larry Page and Sergey Brin while they were\\nPh.D. students at Stanford University in California. Together they own about 14%\\nof its publicly-listed shares and control 56% of the stockholder voting power\\nthrough super-voting stock. The company went public via an initial public\\noffering (IPO) in 2004. In 2015, Google was reorganized as a wholly-owned\\nsubsidiary of Alphabet Inc.. Google is Alphabet's largest subsidiary and is aholding company for Alphabet's Internet properties and interests. Sundar Pichai was appointed CEO of Google on October 24, 2015, replacing Larry Page, who became the CEO of Alphabet. On December 3, 2019, Pichai also became the CEO of Alphabet. [11] \\n\\nIn 2021, the Alphabet Workers Union was founded, mainly composed of Google employees. [12] \\n\\nThe company's rapid growth since incorporation has included products, acquisitions, and partnerships beyond Google's core search engine, (Google Search). It offers services designed for work and productivity (Google Docs, Google Sheets, and Google Slides), email (Gmail), scheduling and time management (Google Calendar), cloud storage (Google Drive), instant messaging and video chat (Google Duo, Google Chat, and Google Meet), language translation (Google Translate), mapping and navigation (Google Maps, Waze, Google Earth, and Street View), podcast hosting (Google Podcasts), video sharing (YouTube), blog publishing (Blogger), note-taking (Google Keep and Jamboard), and photo organizing and editing (Google Photos). The company leads the development of the Android mobile operating system, the Google Chrome web browser, and Chrome OS (a lightweight, proprietary operating system based on the free and open-source Chromium OS operating system). Google has moved increasingly into hardware; from 2010 to 2015, it partnered with major electronics manufacturers in the production of its Google Nexus devices, and it released multiple hardware products in 2016, including the Google Pixel line of smartphones, Google Home smart speaker, Google Wifi mesh wireless router. Google has also experimented with becoming an Internet carrier (Google Fiber and Google Fi).\\n\\nGoogle.com is the most visited website worldwide. Several other Google- owned websites also are on the list of most popular websites, including YouTube and Blogger. [13] On the list of most valuable brands, Google is ranked second by Forbes [14] and fourth by Interbrand. [15] It has received significant criticism involving issues such as privacy concerns, tax avoidance, censorship, search neutrality, antitrust and abuse of its monopoly position.\""
      ]
     },
     "execution_count": 36,
     "metadata": {},
     "output_type": "execute_result"
    }
   ],
   "source": [
    "f.read()"
   ]
  },
  {
   "cell_type": "code",
   "execution_count": 37,
   "id": "802fdff5",
   "metadata": {},
   "outputs": [
    {
     "data": {
      "text/plain": [
       "0"
      ]
     },
     "execution_count": 37,
     "metadata": {},
     "output_type": "execute_result"
    }
   ],
   "source": [
    "f.seek(0)"
   ]
  },
  {
   "cell_type": "code",
   "execution_count": 38,
   "id": "643553b5",
   "metadata": {},
   "outputs": [
    {
     "data": {
      "text/plain": [
       "'Google LLC is an American multinational technology company that specializes in\\n'"
      ]
     },
     "execution_count": 38,
     "metadata": {},
     "output_type": "execute_result"
    }
   ],
   "source": [
    "f.readline()"
   ]
  },
  {
   "cell_type": "code",
   "execution_count": 39,
   "id": "62a08c5d",
   "metadata": {},
   "outputs": [
    {
     "data": {
      "text/plain": [
       "'Internet-related services and products, which include online advertising\\n'"
      ]
     },
     "execution_count": 39,
     "metadata": {},
     "output_type": "execute_result"
    }
   ],
   "source": [
    "f.readline()"
   ]
  },
  {
   "cell_type": "code",
   "execution_count": 40,
   "id": "e83521a4",
   "metadata": {},
   "outputs": [
    {
     "data": {
      "text/plain": [
       "'technologies, a search engine, cloud computing, software, and hardware. It is\\n'"
      ]
     },
     "execution_count": 40,
     "metadata": {},
     "output_type": "execute_result"
    }
   ],
   "source": [
    "f.readline()"
   ]
  },
  {
   "cell_type": "code",
   "execution_count": 41,
   "id": "7127deaa",
   "metadata": {},
   "outputs": [
    {
     "data": {
      "text/plain": [
       "'considered one of the Big Five companies in the American information technology\\n'"
      ]
     },
     "execution_count": 41,
     "metadata": {},
     "output_type": "execute_result"
    }
   ],
   "source": [
    "f.readline()"
   ]
  },
  {
   "cell_type": "code",
   "execution_count": 42,
   "id": "21f695dd",
   "metadata": {},
   "outputs": [
    {
     "data": {
      "text/plain": [
       "0"
      ]
     },
     "execution_count": 42,
     "metadata": {},
     "output_type": "execute_result"
    }
   ],
   "source": [
    "f.seek(0)"
   ]
  },
  {
   "cell_type": "code",
   "execution_count": 43,
   "id": "8554bbb3",
   "metadata": {},
   "outputs": [
    {
     "data": {
      "text/plain": [
       "['Google LLC is an American multinational technology company that specializes in\\n',\n",
       " 'Internet-related services and products, which include online advertising\\n',\n",
       " 'technologies, a search engine, cloud computing, software, and hardware. It is\\n',\n",
       " 'considered one of the Big Five companies in the American information technology\\n',\n",
       " 'industry, along with Amazon, Apple, Meta (Facebook) and Microsoft.[10]\\n',\n",
       " '\\n',\n",
       " 'Google\\n',\n",
       " 'was founded on September 4, 1998, by Larry Page and Sergey Brin while they were\\n',\n",
       " 'Ph.D. students at Stanford University in California. Together they own about 14%\\n',\n",
       " 'of its publicly-listed shares and control 56% of the stockholder voting power\\n',\n",
       " 'through super-voting stock. The company went public via an initial public\\n',\n",
       " 'offering (IPO) in 2004. In 2015, Google was reorganized as a wholly-owned\\n',\n",
       " \"subsidiary of Alphabet Inc.. Google is Alphabet's largest subsidiary and is aholding company for Alphabet's Internet properties and interests. Sundar Pichai was appointed CEO of Google on October 24, 2015, replacing Larry Page, who became the CEO of Alphabet. On December 3, 2019, Pichai also became the CEO of Alphabet. [11] \\n\",\n",
       " '\\n',\n",
       " 'In 2021, the Alphabet Workers Union was founded, mainly composed of Google employees. [12] \\n',\n",
       " '\\n',\n",
       " \"The company's rapid growth since incorporation has included products, acquisitions, and partnerships beyond Google's core search engine, (Google Search). It offers services designed for work and productivity (Google Docs, Google Sheets, and Google Slides), email (Gmail), scheduling and time management (Google Calendar), cloud storage (Google Drive), instant messaging and video chat (Google Duo, Google Chat, and Google Meet), language translation (Google Translate), mapping and navigation (Google Maps, Waze, Google Earth, and Street View), podcast hosting (Google Podcasts), video sharing (YouTube), blog publishing (Blogger), note-taking (Google Keep and Jamboard), and photo organizing and editing (Google Photos). The company leads the development of the Android mobile operating system, the Google Chrome web browser, and Chrome OS (a lightweight, proprietary operating system based on the free and open-source Chromium OS operating system). Google has moved increasingly into hardware; from 2010 to 2015, it partnered with major electronics manufacturers in the production of its Google Nexus devices, and it released multiple hardware products in 2016, including the Google Pixel line of smartphones, Google Home smart speaker, Google Wifi mesh wireless router. Google has also experimented with becoming an Internet carrier (Google Fiber and Google Fi).\\n\",\n",
       " '\\n',\n",
       " 'Google.com is the most visited website worldwide. Several other Google- owned websites also are on the list of most popular websites, including YouTube and Blogger. [13] On the list of most valuable brands, Google is ranked second by Forbes [14] and fourth by Interbrand. [15] It has received significant criticism involving issues such as privacy concerns, tax avoidance, censorship, search neutrality, antitrust and abuse of its monopoly position.']"
      ]
     },
     "execution_count": 43,
     "metadata": {},
     "output_type": "execute_result"
    }
   ],
   "source": [
    "f.readlines()"
   ]
  },
  {
   "cell_type": "code",
   "execution_count": null,
   "id": "34725569",
   "metadata": {},
   "outputs": [],
   "source": []
  }
 ],
 "metadata": {
  "kernelspec": {
   "display_name": "Python 3 (ipykernel)",
   "language": "python",
   "name": "python3"
  },
  "language_info": {
   "codemirror_mode": {
    "name": "ipython",
    "version": 3
   },
   "file_extension": ".py",
   "mimetype": "text/x-python",
   "name": "python",
   "nbconvert_exporter": "python",
   "pygments_lexer": "ipython3",
   "version": "3.10.9"
  }
 },
 "nbformat": 4,
 "nbformat_minor": 5
}
