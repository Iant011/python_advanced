{
 "cells": [
  {
   "cell_type": "code",
   "execution_count": 23,
   "id": "a3ed5469",
   "metadata": {},
   "outputs": [],
   "source": [
    "class car:\n",
    "    def __init__(self,body_type, engine, fuel,colour): ## __init__ way to pass data #constructor, pointer\n",
    "        self.body_type = body_type\n",
    "        self.engine = engine\n",
    "        self.fuel = fuel\n",
    "        self.colour = colour\n",
    "        \n",
    "    def test(self):\n",
    "        print(\"This is my first method n my car class\")"
   ]
  },
  {
   "cell_type": "code",
   "execution_count": 40,
   "id": "bd1c2ab9",
   "metadata": {},
   "outputs": [],
   "source": [
    "fortuner = car('SUV',2000,'Diesel', 'White')"
   ]
  },
  {
   "cell_type": "code",
   "execution_count": 42,
   "id": "637b5377",
   "metadata": {},
   "outputs": [
    {
     "data": {
      "text/plain": [
       "2000"
      ]
     },
     "execution_count": 42,
     "metadata": {},
     "output_type": "execute_result"
    }
   ],
   "source": [
    "fortuner.engine"
   ]
  },
  {
   "cell_type": "code",
   "execution_count": 44,
   "id": "a7350c7c",
   "metadata": {},
   "outputs": [
    {
     "data": {
      "text/plain": [
       "'White'"
      ]
     },
     "execution_count": 44,
     "metadata": {},
     "output_type": "execute_result"
    }
   ],
   "source": [
    "fortuner.colour"
   ]
  },
  {
   "cell_type": "code",
   "execution_count": 47,
   "id": "a298c685",
   "metadata": {},
   "outputs": [],
   "source": [
    "class house:\n",
    "    def __init__ (self,Area,BHK,Floor,Type):\n",
    "        self.Area = Area\n",
    "        self.BHK = BHK\n",
    "        self.Floor = Floor\n",
    "        self.Type = Type"
   ]
  },
  {
   "cell_type": "code",
   "execution_count": 48,
   "id": "408973e9",
   "metadata": {},
   "outputs": [],
   "source": [
    "IANT = house(1000,'2bhk','4th floore','Apartment')"
   ]
  },
  {
   "cell_type": "code",
   "execution_count": 49,
   "id": "be7ec1f0",
   "metadata": {},
   "outputs": [
    {
     "data": {
      "text/plain": [
       "'4th floore'"
      ]
     },
     "execution_count": 49,
     "metadata": {},
     "output_type": "execute_result"
    }
   ],
   "source": [
    "IANT.Floor"
   ]
  },
  {
   "cell_type": "code",
   "execution_count": 50,
   "id": "f65155cf",
   "metadata": {},
   "outputs": [
    {
     "data": {
      "text/plain": [
       "1000"
      ]
     },
     "execution_count": 50,
     "metadata": {},
     "output_type": "execute_result"
    }
   ],
   "source": [
    "IANT.Area"
   ]
  },
  {
   "cell_type": "code",
   "execution_count": 51,
   "id": "eb03fd06",
   "metadata": {},
   "outputs": [
    {
     "data": {
      "text/plain": [
       "'Apartment'"
      ]
     },
     "execution_count": 51,
     "metadata": {},
     "output_type": "execute_result"
    }
   ],
   "source": [
    "IANT.Type"
   ]
  },
  {
   "cell_type": "code",
   "execution_count": null,
   "id": "7400a056",
   "metadata": {},
   "outputs": [],
   "source": []
  },
  {
   "cell_type": "code",
   "execution_count": null,
   "id": "1545f0ff",
   "metadata": {},
   "outputs": [],
   "source": []
  },
  {
   "cell_type": "code",
   "execution_count": null,
   "id": "4c0e2d59",
   "metadata": {},
   "outputs": [],
   "source": []
  },
  {
   "cell_type": "code",
   "execution_count": 24,
   "id": "77d1193c",
   "metadata": {},
   "outputs": [],
   "source": [
    "Nexon = car('SUV','1500cc','Petrol','Red')"
   ]
  },
  {
   "cell_type": "code",
   "execution_count": 13,
   "id": "01a668e6",
   "metadata": {},
   "outputs": [
    {
     "data": {
      "text/plain": [
       "'Petrol'"
      ]
     },
     "execution_count": 13,
     "metadata": {},
     "output_type": "execute_result"
    }
   ],
   "source": [
    "Nexon.fuel"
   ]
  },
  {
   "cell_type": "code",
   "execution_count": 16,
   "id": "6d42c301",
   "metadata": {},
   "outputs": [
    {
     "data": {
      "text/plain": [
       "'Red'"
      ]
     },
     "execution_count": 16,
     "metadata": {},
     "output_type": "execute_result"
    }
   ],
   "source": [
    "Nexon.colour"
   ]
  },
  {
   "cell_type": "code",
   "execution_count": 18,
   "id": "510926f7",
   "metadata": {},
   "outputs": [
    {
     "data": {
      "text/plain": [
       "'1500cc'"
      ]
     },
     "execution_count": 18,
     "metadata": {},
     "output_type": "execute_result"
    }
   ],
   "source": [
    "Nexon.engine"
   ]
  },
  {
   "cell_type": "code",
   "execution_count": 36,
   "id": "8e02e677",
   "metadata": {},
   "outputs": [
    {
     "name": "stdout",
     "output_type": "stream",
     "text": [
      "This is my first method n my car class\n"
     ]
    }
   ],
   "source": [
    "Nexon.test()"
   ]
  },
  {
   "cell_type": "code",
   "execution_count": 38,
   "id": "dac85507",
   "metadata": {},
   "outputs": [],
   "source": [
    "# Fortuner ---> Object car"
   ]
  },
  {
   "cell_type": "code",
   "execution_count": null,
   "id": "656d73c7",
   "metadata": {},
   "outputs": [],
   "source": [
    "fortuner = car('SUV',2000,'Diesel', 'White')"
   ]
  },
  {
   "cell_type": "code",
   "execution_count": 35,
   "id": "373fc97c",
   "metadata": {},
   "outputs": [
    {
     "name": "stdout",
     "output_type": "stream",
     "text": [
      "<class 'function'>\n"
     ]
    }
   ],
   "source": [
    "print(type(car.test))"
   ]
  },
  {
   "cell_type": "code",
   "execution_count": 8,
   "id": "cc9574af",
   "metadata": {},
   "outputs": [],
   "source": [
    "def car(a,b,c,d):\n",
    "    return a"
   ]
  },
  {
   "cell_type": "code",
   "execution_count": 15,
   "id": "904acef2",
   "metadata": {},
   "outputs": [
    {
     "data": {
      "text/plain": [
       "<__main__.car at 0x1e3f737dcf0>"
      ]
     },
     "execution_count": 15,
     "metadata": {},
     "output_type": "execute_result"
    }
   ],
   "source": [
    "car('Petrol','RED','1500CC','SUV')"
   ]
  },
  {
   "cell_type": "code",
   "execution_count": 26,
   "id": "a2a16078",
   "metadata": {},
   "outputs": [],
   "source": [
    "l = 'IANT'"
   ]
  },
  {
   "cell_type": "code",
   "execution_count": 28,
   "id": "593f3c5e",
   "metadata": {},
   "outputs": [
    {
     "data": {
      "text/plain": [
       "str"
      ]
     },
     "execution_count": 28,
     "metadata": {},
     "output_type": "execute_result"
    }
   ],
   "source": [
    "type(l)"
   ]
  },
  {
   "cell_type": "code",
   "execution_count": 29,
   "id": "1a1f7a85",
   "metadata": {},
   "outputs": [
    {
     "name": "stdout",
     "output_type": "stream",
     "text": [
      "<class 'str'>\n"
     ]
    }
   ],
   "source": [
    "print(type(l))"
   ]
  },
  {
   "cell_type": "code",
   "execution_count": null,
   "id": "cfa211c7",
   "metadata": {},
   "outputs": [],
   "source": [
    "car"
   ]
  },
  {
   "cell_type": "code",
   "execution_count": 4,
   "id": "2e831db8",
   "metadata": {},
   "outputs": [
    {
     "name": "stdout",
     "output_type": "stream",
     "text": [
      "<class 'int'>\n"
     ]
    }
   ],
   "source": [
    "print(type(a))"
   ]
  },
  {
   "cell_type": "code",
   "execution_count": 113,
   "id": "30f87887",
   "metadata": {},
   "outputs": [],
   "source": [
    "j = 'IANT'"
   ]
  },
  {
   "cell_type": "code",
   "execution_count": 196,
   "id": "d0199086",
   "metadata": {},
   "outputs": [],
   "source": [
    "class shubham:\n",
    "    def __init__ (self,a):\n",
    "        self.a = a\n",
    "        \n",
    "    def test1(self):\n",
    "        \n",
    "        if type(self.a)==int:\n",
    "            \n",
    "            return self.a + 10\n",
    "    \n",
    "    def test2(self):\n",
    "        return self.a - 5\n",
    "    \n",
    "    def test3(self):\n",
    "        return self.a / 2\n",
    "    \n",
    "    def test4(self):\n",
    "        return a * 3"
   ]
  },
  {
   "cell_type": "code",
   "execution_count": 197,
   "id": "4d765151",
   "metadata": {},
   "outputs": [],
   "source": [
    "p = shubham(20)"
   ]
  },
  {
   "cell_type": "code",
   "execution_count": 198,
   "id": "e729b89c",
   "metadata": {},
   "outputs": [
    {
     "data": {
      "text/plain": [
       "20"
      ]
     },
     "execution_count": 198,
     "metadata": {},
     "output_type": "execute_result"
    }
   ],
   "source": [
    "p.a"
   ]
  },
  {
   "cell_type": "code",
   "execution_count": 199,
   "id": "7de0d450",
   "metadata": {},
   "outputs": [
    {
     "data": {
      "text/plain": [
       "30"
      ]
     },
     "execution_count": 199,
     "metadata": {},
     "output_type": "execute_result"
    }
   ],
   "source": [
    "p.test1()"
   ]
  },
  {
   "cell_type": "code",
   "execution_count": 200,
   "id": "b223e893",
   "metadata": {},
   "outputs": [
    {
     "data": {
      "text/plain": [
       "15"
      ]
     },
     "execution_count": 200,
     "metadata": {},
     "output_type": "execute_result"
    }
   ],
   "source": [
    "p.test2()"
   ]
  },
  {
   "cell_type": "code",
   "execution_count": 205,
   "id": "a1a593c1",
   "metadata": {},
   "outputs": [],
   "source": [
    "class xyz:\n",
    "    def __init__(self,a,b,c):\n",
    "        self.a = a\n",
    "        self.b = b\n",
    "        self.c = c\n",
    "        \n",
    "    def test(self):\n",
    "        print(\"This is my test in XYZ class\")\n",
    "        \n",
    "    def test2(self):\n",
    "        print(\"This is my test2 in XYZ class\")"
   ]
  },
  {
   "cell_type": "code",
   "execution_count": 206,
   "id": "22a9e408",
   "metadata": {},
   "outputs": [],
   "source": [
    "g = xyz(1,2,3)"
   ]
  },
  {
   "cell_type": "code",
   "execution_count": 207,
   "id": "49c69ff8",
   "metadata": {},
   "outputs": [
    {
     "name": "stdout",
     "output_type": "stream",
     "text": [
      "This is my test in XYZ class\n"
     ]
    }
   ],
   "source": [
    "g.test()"
   ]
  },
  {
   "cell_type": "code",
   "execution_count": 208,
   "id": "4674f899",
   "metadata": {},
   "outputs": [
    {
     "name": "stdout",
     "output_type": "stream",
     "text": [
      "This is my test2 in XYZ class\n"
     ]
    }
   ],
   "source": [
    "g.test2()"
   ]
  },
  {
   "cell_type": "code",
   "execution_count": 217,
   "id": "2de0afb6",
   "metadata": {},
   "outputs": [],
   "source": [
    "class IANT(xyz):\n",
    "    def test3(self):\n",
    "        print(\"This is test3 in IANT class\")"
   ]
  },
  {
   "cell_type": "code",
   "execution_count": 218,
   "id": "a5087eb7",
   "metadata": {},
   "outputs": [],
   "source": [
    "h = IANT(5,8,9)"
   ]
  },
  {
   "cell_type": "code",
   "execution_count": 219,
   "id": "ae47d6c0",
   "metadata": {},
   "outputs": [
    {
     "name": "stdout",
     "output_type": "stream",
     "text": [
      "This is my test in XYZ class\n"
     ]
    }
   ],
   "source": [
    "h.test()"
   ]
  },
  {
   "cell_type": "code",
   "execution_count": 220,
   "id": "256a4600",
   "metadata": {},
   "outputs": [
    {
     "name": "stdout",
     "output_type": "stream",
     "text": [
      "This is test3 in IANT class\n"
     ]
    }
   ],
   "source": [
    "h.test3()"
   ]
  },
  {
   "cell_type": "code",
   "execution_count": null,
   "id": "2a297136",
   "metadata": {},
   "outputs": [],
   "source": []
  },
  {
   "cell_type": "code",
   "execution_count": null,
   "id": "12e1d1a7",
   "metadata": {},
   "outputs": [],
   "source": []
  },
  {
   "cell_type": "code",
   "execution_count": null,
   "id": "517e2106",
   "metadata": {},
   "outputs": [],
   "source": []
  },
  {
   "cell_type": "code",
   "execution_count": null,
   "id": "7a5fe68e",
   "metadata": {},
   "outputs": [],
   "source": []
  },
  {
   "cell_type": "code",
   "execution_count": null,
   "id": "d3829c2a",
   "metadata": {},
   "outputs": [],
   "source": []
  },
  {
   "cell_type": "code",
   "execution_count": null,
   "id": "5da06123",
   "metadata": {},
   "outputs": [],
   "source": []
  },
  {
   "cell_type": "code",
   "execution_count": null,
   "id": "9549260d",
   "metadata": {},
   "outputs": [],
   "source": []
  },
  {
   "cell_type": "code",
   "execution_count": 189,
   "id": "dc87ca97",
   "metadata": {},
   "outputs": [],
   "source": [
    "class shubham:\n",
    "    def __init__ (self,a):\n",
    "        self.a = a\n",
    "    def test1(self):\n",
    "        if type(self.a)==int:\n",
    "            print(self.a + 10)"
   ]
  },
  {
   "cell_type": "code",
   "execution_count": 191,
   "id": "f7b73452",
   "metadata": {},
   "outputs": [],
   "source": [
    "h = shubham(50)"
   ]
  },
  {
   "cell_type": "code",
   "execution_count": 193,
   "id": "6a6602f1",
   "metadata": {},
   "outputs": [
    {
     "name": "stdout",
     "output_type": "stream",
     "text": [
      "60\n"
     ]
    }
   ],
   "source": [
    "h.test1()"
   ]
  },
  {
   "cell_type": "code",
   "execution_count": null,
   "id": "86d84cb7",
   "metadata": {},
   "outputs": [],
   "source": []
  },
  {
   "cell_type": "code",
   "execution_count": null,
   "id": "a268d32d",
   "metadata": {},
   "outputs": [],
   "source": []
  },
  {
   "cell_type": "code",
   "execution_count": null,
   "id": "a1d58e87",
   "metadata": {},
   "outputs": [],
   "source": []
  },
  {
   "cell_type": "code",
   "execution_count": null,
   "id": "ea23130f",
   "metadata": {},
   "outputs": [],
   "source": []
  },
  {
   "cell_type": "code",
   "execution_count": null,
   "id": "18197121",
   "metadata": {},
   "outputs": [],
   "source": []
  },
  {
   "cell_type": "code",
   "execution_count": 52,
   "id": "03df8d49",
   "metadata": {},
   "outputs": [],
   "source": [
    "class list_parcer:\n",
    "    def __init__ (self,l):\n",
    "        self.l = l\n",
    "        \n",
    "    def parcer(self):\n",
    "        if type(self.l)==list:\n",
    "            for i in self.l:\n",
    "                print(i)\n",
    "                \n",
    "    def reverse_list(self):\n",
    "        if type(self.l)==list:\n",
    "            return self.l[::-1]"
   ]
  },
  {
   "cell_type": "code",
   "execution_count": 53,
   "id": "f4c673bb",
   "metadata": {},
   "outputs": [],
   "source": [
    "k = list_parcer([1,2,3,4])"
   ]
  },
  {
   "cell_type": "code",
   "execution_count": 54,
   "id": "8abe7f1b",
   "metadata": {},
   "outputs": [
    {
     "data": {
      "text/plain": [
       "[1, 2, 3, 4]"
      ]
     },
     "execution_count": 54,
     "metadata": {},
     "output_type": "execute_result"
    }
   ],
   "source": [
    "k.l"
   ]
  },
  {
   "cell_type": "code",
   "execution_count": 56,
   "id": "b4c4001a",
   "metadata": {},
   "outputs": [
    {
     "name": "stdout",
     "output_type": "stream",
     "text": [
      "1\n",
      "2\n",
      "3\n",
      "4\n"
     ]
    }
   ],
   "source": [
    "k.parcer()"
   ]
  },
  {
   "cell_type": "code",
   "execution_count": 150,
   "id": "449bd4a1",
   "metadata": {},
   "outputs": [
    {
     "data": {
      "text/plain": [
       "[4, 3, 2, 1]"
      ]
     },
     "execution_count": 150,
     "metadata": {},
     "output_type": "execute_result"
    }
   ],
   "source": [
    "k.reverse_list()"
   ]
  },
  {
   "cell_type": "code",
   "execution_count": 181,
   "id": "490a5600",
   "metadata": {},
   "outputs": [],
   "source": [
    "class sohel:\n",
    "    def __init__(self,a,b):\n",
    "        self.a = a\n",
    "        self.b = b\n",
    "        \n",
    "    def addi(self):\n",
    "        if type(self.a) == list:\n",
    "            \n",
    "            c  = []\n",
    "            c.append(a)\n",
    "            return c\n",
    "        else:\n",
    "            print(\"\")\n",
    "        \n",
    "    "
   ]
  },
  {
   "cell_type": "code",
   "execution_count": 182,
   "id": "9723e0cd",
   "metadata": {},
   "outputs": [],
   "source": [
    "x = [1,2,3]\n",
    "y = [5,9,7]"
   ]
  },
  {
   "cell_type": "code",
   "execution_count": 183,
   "id": "fe40d74d",
   "metadata": {},
   "outputs": [],
   "source": [
    "k = sohel(x,y)"
   ]
  },
  {
   "cell_type": "code",
   "execution_count": 184,
   "id": "954e3145",
   "metadata": {},
   "outputs": [
    {
     "data": {
      "text/plain": [
       "[0]"
      ]
     },
     "execution_count": 184,
     "metadata": {},
     "output_type": "execute_result"
    }
   ],
   "source": [
    "k.addi()"
   ]
  },
  {
   "cell_type": "code",
   "execution_count": 185,
   "id": "f658f4f1",
   "metadata": {},
   "outputs": [
    {
     "data": {
      "text/plain": [
       "[1, 2, 3]"
      ]
     },
     "execution_count": 185,
     "metadata": {},
     "output_type": "execute_result"
    }
   ],
   "source": [
    "k.a"
   ]
  },
  {
   "cell_type": "code",
   "execution_count": 186,
   "id": "4c259b06",
   "metadata": {},
   "outputs": [
    {
     "data": {
      "text/plain": [
       "[5, 9, 7]"
      ]
     },
     "execution_count": 186,
     "metadata": {},
     "output_type": "execute_result"
    }
   ],
   "source": [
    "k.b"
   ]
  },
  {
   "cell_type": "code",
   "execution_count": null,
   "id": "217eece7",
   "metadata": {},
   "outputs": [],
   "source": []
  },
  {
   "cell_type": "code",
   "execution_count": null,
   "id": "a4703a22",
   "metadata": {},
   "outputs": [],
   "source": []
  },
  {
   "cell_type": "code",
   "execution_count": null,
   "id": "0fb84895",
   "metadata": {},
   "outputs": [],
   "source": []
  },
  {
   "cell_type": "code",
   "execution_count": null,
   "id": "1af9bfff",
   "metadata": {},
   "outputs": [],
   "source": []
  },
  {
   "cell_type": "code",
   "execution_count": 59,
   "id": "a5fd0a92",
   "metadata": {},
   "outputs": [
    {
     "name": "stdout",
     "output_type": "stream",
     "text": [
      " Volume in drive C is Windows\n",
      " Volume Serial Number is BAE7-516A\n",
      "\n",
      " Directory of C:\\Users\\ROCKSTAR\\Documents\\Iant\\Data_science\\Python\\Python advanced\\CD_impliment\\1-2_online_batch\\Class_Practicals\n",
      "\n",
      "09/12/2023  13:21    <DIR>          .\n",
      "09/12/2023  13:21    <DIR>          ..\n",
      "09/11/2023  12:53    <DIR>          .ipynb_checkpoints\n",
      "09/12/2023  13:21             9,678 OOps_Class1.ipynb\n",
      "               1 File(s)          9,678 bytes\n",
      "               3 Dir(s)  198,210,732,032 bytes free\n"
     ]
    }
   ],
   "source": [
    "ls"
   ]
  },
  {
   "cell_type": "code",
   "execution_count": 60,
   "id": "1119d316",
   "metadata": {},
   "outputs": [],
   "source": [
    "class dictparcer:\n",
    "    def __init__(self,d):\n",
    "        self.d = d\n",
    "        \n",
    "    def mykeys(self):\n",
    "        if type(self.d)== dict:\n",
    "            return self.d.keys()\n",
    "    def myvalues(self):\n",
    "        if type(self.d)== dict:\n",
    "            return self.d.values()"
   ]
  },
  {
   "cell_type": "code",
   "execution_count": 61,
   "id": "ef55c150",
   "metadata": {},
   "outputs": [],
   "source": [
    "dic = dictparcer({'Name':'IANT','Email':'Thisismymail@gmail.com'})"
   ]
  },
  {
   "cell_type": "code",
   "execution_count": 62,
   "id": "595eab88",
   "metadata": {},
   "outputs": [
    {
     "data": {
      "text/plain": [
       "{'Name': 'IANT', 'Email': 'Thisismymail@gmail.com'}"
      ]
     },
     "execution_count": 62,
     "metadata": {},
     "output_type": "execute_result"
    }
   ],
   "source": [
    "dic.d"
   ]
  },
  {
   "cell_type": "code",
   "execution_count": 63,
   "id": "e199f574",
   "metadata": {},
   "outputs": [
    {
     "data": {
      "text/plain": [
       "dict_keys(['Name', 'Email'])"
      ]
     },
     "execution_count": 63,
     "metadata": {},
     "output_type": "execute_result"
    }
   ],
   "source": [
    "dic.mykeys()"
   ]
  },
  {
   "cell_type": "code",
   "execution_count": 64,
   "id": "6edf6e06",
   "metadata": {},
   "outputs": [
    {
     "data": {
      "text/plain": [
       "dict_values(['IANT', 'Thisismymail@gmail.com'])"
      ]
     },
     "execution_count": 64,
     "metadata": {},
     "output_type": "execute_result"
    }
   ],
   "source": [
    "dic.myvalues()"
   ]
  },
  {
   "cell_type": "markdown",
   "id": "64d7d0f3",
   "metadata": {},
   "source": [
    "# Inheritance"
   ]
  },
  {
   "cell_type": "code",
   "execution_count": 65,
   "id": "302265c5",
   "metadata": {},
   "outputs": [],
   "source": [
    "class xyz:\n",
    "    def __init__(self,a,b,c):\n",
    "        self.a = a\n",
    "        self.b = b\n",
    "        self.c = c\n",
    "        \n",
    "    def test(self):\n",
    "        print(\"This is my test in class xyz\")\n",
    "        \n",
    "    def test2(self):\n",
    "        print(\"This is my second in  my class xyz\")"
   ]
  },
  {
   "cell_type": "code",
   "execution_count": 66,
   "id": "40d71fb5",
   "metadata": {},
   "outputs": [],
   "source": [
    "p = xyz(1,2,3)"
   ]
  },
  {
   "cell_type": "code",
   "execution_count": 67,
   "id": "8ef96a57",
   "metadata": {},
   "outputs": [
    {
     "data": {
      "text/plain": [
       "1"
      ]
     },
     "execution_count": 67,
     "metadata": {},
     "output_type": "execute_result"
    }
   ],
   "source": [
    "p.a"
   ]
  },
  {
   "cell_type": "code",
   "execution_count": 68,
   "id": "4ff19c2d",
   "metadata": {},
   "outputs": [
    {
     "name": "stdout",
     "output_type": "stream",
     "text": [
      "This is my test in class xyz\n"
     ]
    }
   ],
   "source": [
    "p.test()"
   ]
  },
  {
   "cell_type": "code",
   "execution_count": 69,
   "id": "6a7be643",
   "metadata": {},
   "outputs": [
    {
     "name": "stdout",
     "output_type": "stream",
     "text": [
      "This is my second in  my class xyz\n"
     ]
    }
   ],
   "source": [
    "p.test2()"
   ]
  },
  {
   "cell_type": "code",
   "execution_count": 70,
   "id": "cf84d8bd",
   "metadata": {},
   "outputs": [],
   "source": [
    "class xyz1(xyz):\n",
    "    pass"
   ]
  },
  {
   "cell_type": "code",
   "execution_count": 72,
   "id": "123726ce",
   "metadata": {},
   "outputs": [],
   "source": [
    "l = xyz1(5,6,7)"
   ]
  },
  {
   "cell_type": "code",
   "execution_count": 73,
   "id": "b5bcae94",
   "metadata": {},
   "outputs": [
    {
     "data": {
      "text/plain": [
       "5"
      ]
     },
     "execution_count": 73,
     "metadata": {},
     "output_type": "execute_result"
    }
   ],
   "source": [
    "l.a"
   ]
  },
  {
   "cell_type": "code",
   "execution_count": 74,
   "id": "fd001cbf",
   "metadata": {},
   "outputs": [
    {
     "data": {
      "text/plain": [
       "6"
      ]
     },
     "execution_count": 74,
     "metadata": {},
     "output_type": "execute_result"
    }
   ],
   "source": [
    "l.b"
   ]
  },
  {
   "cell_type": "code",
   "execution_count": 75,
   "id": "8969ede6",
   "metadata": {},
   "outputs": [
    {
     "data": {
      "text/plain": [
       "7"
      ]
     },
     "execution_count": 75,
     "metadata": {},
     "output_type": "execute_result"
    }
   ],
   "source": [
    "l.c"
   ]
  },
  {
   "cell_type": "code",
   "execution_count": 77,
   "id": "a7c4550a",
   "metadata": {},
   "outputs": [
    {
     "name": "stdout",
     "output_type": "stream",
     "text": [
      "This is my test in class xyz\n"
     ]
    }
   ],
   "source": [
    "l.test()"
   ]
  },
  {
   "cell_type": "code",
   "execution_count": 78,
   "id": "29602208",
   "metadata": {},
   "outputs": [
    {
     "name": "stdout",
     "output_type": "stream",
     "text": [
      "This is my second in  my class xyz\n"
     ]
    }
   ],
   "source": [
    "l.test2()"
   ]
  },
  {
   "cell_type": "code",
   "execution_count": 79,
   "id": "ad7c82d2",
   "metadata": {},
   "outputs": [],
   "source": [
    "class xyz:\n",
    "    def __init__(self,a,b,c):\n",
    "        self.a = a\n",
    "        self.b = b\n",
    "        self.c = c\n",
    "        \n",
    "    def test(self):\n",
    "        print(\"This is my test in class xyz\")\n",
    "        \n",
    "    def test2(self):\n",
    "        print(\"This is my second in  my class xyz\")\n",
    "        \n",
    "class xyz1(xyz):\n",
    "    pass"
   ]
  },
  {
   "cell_type": "code",
   "execution_count": null,
   "id": "e06962c3",
   "metadata": {},
   "outputs": [],
   "source": []
  },
  {
   "cell_type": "code",
   "execution_count": null,
   "id": "bbfa7c2a",
   "metadata": {},
   "outputs": [],
   "source": []
  },
  {
   "cell_type": "code",
   "execution_count": 80,
   "id": "9719dd9e",
   "metadata": {},
   "outputs": [],
   "source": [
    "class xyz:\n",
    "    def __init__(self,a,b,c):\n",
    "        self.a = a\n",
    "        self.b = b\n",
    "        self.c = c\n",
    "        \n",
    "    def test(self):\n",
    "        print(\"This is my test in class xyz\")\n",
    "        \n",
    "    def test2(self):\n",
    "        print(\"This is my second in  my class xyz\")\n",
    "        \n",
    "class xyz1(xyz):\n",
    "    def test5(self):\n",
    "        print(\"This is my test 5 in my class of xyz1\")"
   ]
  },
  {
   "cell_type": "code",
   "execution_count": 82,
   "id": "f2e35f21",
   "metadata": {},
   "outputs": [],
   "source": [
    "h = xyz1('a','b','c')"
   ]
  },
  {
   "cell_type": "code",
   "execution_count": 83,
   "id": "ef99a32d",
   "metadata": {},
   "outputs": [
    {
     "name": "stdout",
     "output_type": "stream",
     "text": [
      "This is my test 5 in my class of xyz1\n"
     ]
    }
   ],
   "source": [
    "h.test5()"
   ]
  },
  {
   "cell_type": "code",
   "execution_count": 84,
   "id": "0d9e5983",
   "metadata": {},
   "outputs": [],
   "source": [
    "g = xyz(1,2,3)"
   ]
  },
  {
   "cell_type": "code",
   "execution_count": 85,
   "id": "c4c1bf77",
   "metadata": {},
   "outputs": [
    {
     "name": "stdout",
     "output_type": "stream",
     "text": [
      "This is my second in  my class xyz\n"
     ]
    }
   ],
   "source": [
    "g.test2()"
   ]
  },
  {
   "cell_type": "code",
   "execution_count": 86,
   "id": "8ca26ccd",
   "metadata": {},
   "outputs": [
    {
     "name": "stdout",
     "output_type": "stream",
     "text": [
      "This is my test 5 in my class of xyz1\n"
     ]
    }
   ],
   "source": [
    "h.test5()"
   ]
  },
  {
   "cell_type": "code",
   "execution_count": 87,
   "id": "26a09b06",
   "metadata": {},
   "outputs": [
    {
     "data": {
      "text/plain": [
       "'a'"
      ]
     },
     "execution_count": 87,
     "metadata": {},
     "output_type": "execute_result"
    }
   ],
   "source": [
    "h.a"
   ]
  },
  {
   "cell_type": "code",
   "execution_count": 89,
   "id": "eb4a71cb",
   "metadata": {},
   "outputs": [],
   "source": [
    "class xyz:\n",
    "    def __init__(self,a,b,c):\n",
    "        self.a = a\n",
    "        self.b = b\n",
    "        self.c = c\n",
    "        \n",
    "    def test(self):\n",
    "        print(\"This is my test in class xyz\")\n",
    "        \n",
    "    def test2(self):\n",
    "        print(\"This is my second in  my class xyz\")\n",
    "        \n",
    "class xyz1(xyz):\n",
    "    def test3(self):\n",
    "        print(\"This is test 3 in class of XYZ1\")\n",
    "        \n",
    "class xyz2(xyz1):\n",
    "    def test4(self):\n",
    "        print(\"this is my test 4 in class xyz2\")"
   ]
  },
  {
   "cell_type": "code",
   "execution_count": 90,
   "id": "f59a2cf2",
   "metadata": {},
   "outputs": [],
   "source": [
    "f = xyz2('p','q','r')"
   ]
  },
  {
   "cell_type": "code",
   "execution_count": 91,
   "id": "7fd6a969",
   "metadata": {},
   "outputs": [
    {
     "name": "stdout",
     "output_type": "stream",
     "text": [
      "this is my test 4 in class xyz2\n"
     ]
    }
   ],
   "source": [
    "f.test4()"
   ]
  },
  {
   "cell_type": "code",
   "execution_count": 92,
   "id": "0237b35d",
   "metadata": {},
   "outputs": [],
   "source": [
    "o = xyz(1,2,3)"
   ]
  },
  {
   "cell_type": "code",
   "execution_count": 94,
   "id": "28e877c2",
   "metadata": {},
   "outputs": [
    {
     "name": "stdout",
     "output_type": "stream",
     "text": [
      "This is my second in  my class xyz\n"
     ]
    }
   ],
   "source": [
    "o.test2()"
   ]
  },
  {
   "cell_type": "code",
   "execution_count": 108,
   "id": "95b504de",
   "metadata": {},
   "outputs": [],
   "source": [
    "class File:\n",
    "    def __init__(self,filename):\n",
    "        self.filename = filename\n",
    "        \n",
    "    def read(self):\n",
    "        f = open(self.filename,'r+')\n",
    "        f.seek(0)\n",
    "        return f.read()\n",
    "        f.close()\n",
    "        \n",
    "    def write(self,writing_data=''):\n",
    "        f = open(self.filename, 'r+')\n",
    "        f.write(writing_data)\n",
    "        f.close()"
   ]
  },
  {
   "cell_type": "code",
   "execution_count": 109,
   "id": "ddc8d43e",
   "metadata": {},
   "outputs": [],
   "source": [
    "g = File('Class_list.txt')"
   ]
  },
  {
   "cell_type": "code",
   "execution_count": 111,
   "id": "90ceba3d",
   "metadata": {},
   "outputs": [
    {
     "data": {
      "text/plain": [
       "'This is my data in writing'"
      ]
     },
     "execution_count": 111,
     "metadata": {},
     "output_type": "execute_result"
    }
   ],
   "source": [
    "g.read()"
   ]
  },
  {
   "cell_type": "code",
   "execution_count": 112,
   "id": "6d2ecb4a",
   "metadata": {},
   "outputs": [],
   "source": [
    "g.write(writing_data='This is my data in writing')"
   ]
  },
  {
   "cell_type": "code",
   "execution_count": null,
   "id": "b7280443",
   "metadata": {},
   "outputs": [],
   "source": []
  },
  {
   "cell_type": "code",
   "execution_count": null,
   "id": "5d750020",
   "metadata": {},
   "outputs": [],
   "source": []
  }
 ],
 "metadata": {
  "kernelspec": {
   "display_name": "Python 3 (ipykernel)",
   "language": "python",
   "name": "python3"
  },
  "language_info": {
   "codemirror_mode": {
    "name": "ipython",
    "version": 3
   },
   "file_extension": ".py",
   "mimetype": "text/x-python",
   "name": "python",
   "nbconvert_exporter": "python",
   "pygments_lexer": "ipython3",
   "version": "3.10.9"
  }
 },
 "nbformat": 4,
 "nbformat_minor": 5
}
