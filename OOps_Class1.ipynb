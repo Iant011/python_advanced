{
 "cells": [
  {
   "cell_type": "code",
   "execution_count": 23,
   "id": "a3ed5469",
   "metadata": {},
   "outputs": [],
   "source": [
    "class car:\n",
    "    def __init__(self,body_type, engine, fuel,colour): ## __init__ way to pass data #constructor, pointer\n",
    "        self.body_type = body_type\n",
    "        self.engine = engine\n",
    "        self.fuel = fuel\n",
    "        self.colour = colour\n",
    "        \n",
    "    def test(self):\n",
    "        print(\"This is my first method n my car class\")"
   ]
  },
  {
   "cell_type": "code",
   "execution_count": 40,
   "id": "bd1c2ab9",
   "metadata": {},
   "outputs": [],
   "source": [
    "fortuner = car('SUV',2000,'Diesel', 'White')"
   ]
  },
  {
   "cell_type": "code",
   "execution_count": 42,
   "id": "637b5377",
   "metadata": {},
   "outputs": [
    {
     "data": {
      "text/plain": [
       "2000"
      ]
     },
     "execution_count": 42,
     "metadata": {},
     "output_type": "execute_result"
    }
   ],
   "source": [
    "fortuner.engine"
   ]
  },
  {
   "cell_type": "code",
   "execution_count": 44,
   "id": "a7350c7c",
   "metadata": {},
   "outputs": [
    {
     "data": {
      "text/plain": [
       "'White'"
      ]
     },
     "execution_count": 44,
     "metadata": {},
     "output_type": "execute_result"
    }
   ],
   "source": [
    "fortuner.colour"
   ]
  },
  {
   "cell_type": "code",
   "execution_count": 47,
   "id": "a298c685",
   "metadata": {},
   "outputs": [],
   "source": [
    "class house:\n",
    "    def __init__ (self,Area,BHK,Floor,Type):\n",
    "        self.Area = Area\n",
    "        self.BHK = BHK\n",
    "        self.Floor = Floor\n",
    "        self.Type = Type"
   ]
  },
  {
   "cell_type": "code",
   "execution_count": 48,
   "id": "408973e9",
   "metadata": {},
   "outputs": [],
   "source": [
    "IANT = house(1000,'2bhk','4th floore','Apartment')"
   ]
  },
  {
   "cell_type": "code",
   "execution_count": 49,
   "id": "be7ec1f0",
   "metadata": {},
   "outputs": [
    {
     "data": {
      "text/plain": [
       "'4th floore'"
      ]
     },
     "execution_count": 49,
     "metadata": {},
     "output_type": "execute_result"
    }
   ],
   "source": [
    "IANT.Floor"
   ]
  },
  {
   "cell_type": "code",
   "execution_count": 50,
   "id": "f65155cf",
   "metadata": {},
   "outputs": [
    {
     "data": {
      "text/plain": [
       "1000"
      ]
     },
     "execution_count": 50,
     "metadata": {},
     "output_type": "execute_result"
    }
   ],
   "source": [
    "IANT.Area"
   ]
  },
  {
   "cell_type": "code",
   "execution_count": 51,
   "id": "eb03fd06",
   "metadata": {},
   "outputs": [
    {
     "data": {
      "text/plain": [
       "'Apartment'"
      ]
     },
     "execution_count": 51,
     "metadata": {},
     "output_type": "execute_result"
    }
   ],
   "source": [
    "IANT.Type"
   ]
  },
  {
   "cell_type": "code",
   "execution_count": null,
   "id": "7400a056",
   "metadata": {},
   "outputs": [],
   "source": []
  },
  {
   "cell_type": "code",
   "execution_count": null,
   "id": "1545f0ff",
   "metadata": {},
   "outputs": [],
   "source": []
  },
  {
   "cell_type": "code",
   "execution_count": null,
   "id": "4c0e2d59",
   "metadata": {},
   "outputs": [],
   "source": []
  },
  {
   "cell_type": "code",
   "execution_count": 24,
   "id": "77d1193c",
   "metadata": {},
   "outputs": [],
   "source": [
    "Nexon = car('SUV','1500cc','Petrol','Red')"
   ]
  },
  {
   "cell_type": "code",
   "execution_count": 13,
   "id": "01a668e6",
   "metadata": {},
   "outputs": [
    {
     "data": {
      "text/plain": [
       "'Petrol'"
      ]
     },
     "execution_count": 13,
     "metadata": {},
     "output_type": "execute_result"
    }
   ],
   "source": [
    "Nexon.fuel"
   ]
  },
  {
   "cell_type": "code",
   "execution_count": 16,
   "id": "6d42c301",
   "metadata": {},
   "outputs": [
    {
     "data": {
      "text/plain": [
       "'Red'"
      ]
     },
     "execution_count": 16,
     "metadata": {},
     "output_type": "execute_result"
    }
   ],
   "source": [
    "Nexon.colour"
   ]
  },
  {
   "cell_type": "code",
   "execution_count": 18,
   "id": "510926f7",
   "metadata": {},
   "outputs": [
    {
     "data": {
      "text/plain": [
       "'1500cc'"
      ]
     },
     "execution_count": 18,
     "metadata": {},
     "output_type": "execute_result"
    }
   ],
   "source": [
    "Nexon.engine"
   ]
  },
  {
   "cell_type": "code",
   "execution_count": 36,
   "id": "8e02e677",
   "metadata": {},
   "outputs": [
    {
     "name": "stdout",
     "output_type": "stream",
     "text": [
      "This is my first method n my car class\n"
     ]
    }
   ],
   "source": [
    "Nexon.test()"
   ]
  },
  {
   "cell_type": "code",
   "execution_count": 38,
   "id": "dac85507",
   "metadata": {},
   "outputs": [],
   "source": [
    "# Fortuner ---> Object car"
   ]
  },
  {
   "cell_type": "code",
   "execution_count": null,
   "id": "656d73c7",
   "metadata": {},
   "outputs": [],
   "source": [
    "fortuner = car('SUV',2000,'Diesel', 'White')"
   ]
  },
  {
   "cell_type": "code",
   "execution_count": 35,
   "id": "373fc97c",
   "metadata": {},
   "outputs": [
    {
     "name": "stdout",
     "output_type": "stream",
     "text": [
      "<class 'function'>\n"
     ]
    }
   ],
   "source": [
    "print(type(car.test))"
   ]
  },
  {
   "cell_type": "code",
   "execution_count": 8,
   "id": "cc9574af",
   "metadata": {},
   "outputs": [],
   "source": [
    "def car(a,b,c,d):\n",
    "    return a"
   ]
  },
  {
   "cell_type": "code",
   "execution_count": 15,
   "id": "904acef2",
   "metadata": {},
   "outputs": [
    {
     "data": {
      "text/plain": [
       "<__main__.car at 0x1e3f737dcf0>"
      ]
     },
     "execution_count": 15,
     "metadata": {},
     "output_type": "execute_result"
    }
   ],
   "source": [
    "car('Petrol','RED','1500CC','SUV')"
   ]
  },
  {
   "cell_type": "code",
   "execution_count": 26,
   "id": "a2a16078",
   "metadata": {},
   "outputs": [],
   "source": [
    "l = 'IANT'"
   ]
  },
  {
   "cell_type": "code",
   "execution_count": 28,
   "id": "593f3c5e",
   "metadata": {},
   "outputs": [
    {
     "data": {
      "text/plain": [
       "str"
      ]
     },
     "execution_count": 28,
     "metadata": {},
     "output_type": "execute_result"
    }
   ],
   "source": [
    "type(l)"
   ]
  },
  {
   "cell_type": "code",
   "execution_count": 29,
   "id": "1a1f7a85",
   "metadata": {},
   "outputs": [
    {
     "name": "stdout",
     "output_type": "stream",
     "text": [
      "<class 'str'>\n"
     ]
    }
   ],
   "source": [
    "print(type(l))"
   ]
  },
  {
   "cell_type": "code",
   "execution_count": null,
   "id": "cfa211c7",
   "metadata": {},
   "outputs": [],
   "source": [
    "car"
   ]
  },
  {
   "cell_type": "code",
   "execution_count": 4,
   "id": "2e831db8",
   "metadata": {},
   "outputs": [
    {
     "name": "stdout",
     "output_type": "stream",
     "text": [
      "<class 'int'>\n"
     ]
    }
   ],
   "source": [
    "print(type(a))"
   ]
  },
  {
   "cell_type": "code",
   "execution_count": 6,
   "id": "30f87887",
   "metadata": {},
   "outputs": [],
   "source": [
    "j = 'IANT'"
   ]
  },
  {
   "cell_type": "code",
   "execution_count": 52,
   "id": "03df8d49",
   "metadata": {},
   "outputs": [],
   "source": [
    "class list_parcer:\n",
    "    def __init__ (self,l):\n",
    "        self.l = l\n",
    "        \n",
    "    def parcer(self):\n",
    "        if type(self.l)==list:\n",
    "            for i in self.l:\n",
    "                print(i)\n",
    "                \n",
    "    def reverse_list(self):\n",
    "        if type(self.l)==list:\n",
    "            return self.l[::-1]"
   ]
  },
  {
   "cell_type": "code",
   "execution_count": 53,
   "id": "f4c673bb",
   "metadata": {},
   "outputs": [],
   "source": [
    "k = list_parcer([1,2,3,4])"
   ]
  },
  {
   "cell_type": "code",
   "execution_count": 54,
   "id": "8abe7f1b",
   "metadata": {},
   "outputs": [
    {
     "data": {
      "text/plain": [
       "[1, 2, 3, 4]"
      ]
     },
     "execution_count": 54,
     "metadata": {},
     "output_type": "execute_result"
    }
   ],
   "source": [
    "k.l"
   ]
  },
  {
   "cell_type": "code",
   "execution_count": 56,
   "id": "b4c4001a",
   "metadata": {},
   "outputs": [
    {
     "name": "stdout",
     "output_type": "stream",
     "text": [
      "1\n",
      "2\n",
      "3\n",
      "4\n"
     ]
    }
   ],
   "source": [
    "k.parcer()"
   ]
  },
  {
   "cell_type": "code",
   "execution_count": 57,
   "id": "449bd4a1",
   "metadata": {},
   "outputs": [
    {
     "data": {
      "text/plain": [
       "[4, 3, 2, 1]"
      ]
     },
     "execution_count": 57,
     "metadata": {},
     "output_type": "execute_result"
    }
   ],
   "source": [
    "k.reverse_list()"
   ]
  },
  {
   "cell_type": "code",
   "execution_count": 59,
   "id": "a5fd0a92",
   "metadata": {},
   "outputs": [
    {
     "name": "stdout",
     "output_type": "stream",
     "text": [
      " Volume in drive C is Windows\n",
      " Volume Serial Number is BAE7-516A\n",
      "\n",
      " Directory of C:\\Users\\ROCKSTAR\\Documents\\Iant\\Data_science\\Python\\Python advanced\\CD_impliment\\1-2_online_batch\\Class_Practicals\n",
      "\n",
      "09/12/2023  13:21    <DIR>          .\n",
      "09/12/2023  13:21    <DIR>          ..\n",
      "09/11/2023  12:53    <DIR>          .ipynb_checkpoints\n",
      "09/12/2023  13:21             9,678 OOps_Class1.ipynb\n",
      "               1 File(s)          9,678 bytes\n",
      "               3 Dir(s)  198,210,732,032 bytes free\n"
     ]
    }
   ],
   "source": [
    "ls"
   ]
  },
  {
   "cell_type": "code",
   "execution_count": 60,
   "id": "1119d316",
   "metadata": {},
   "outputs": [],
   "source": [
    "class dictparcer:\n",
    "    def __init__(self,d):\n",
    "        self.d = d\n",
    "        \n",
    "    def mykeys(self):\n",
    "        if type(self.d)== dict:\n",
    "            return self.d.keys()\n",
    "    def myvalues(self):\n",
    "        if type(self.d)== dict:\n",
    "            return self.d.values()"
   ]
  },
  {
   "cell_type": "code",
   "execution_count": 61,
   "id": "ef55c150",
   "metadata": {},
   "outputs": [],
   "source": [
    "dic = dictparcer({'Name':'IANT','Email':'Thisismymail@gmail.com'})"
   ]
  },
  {
   "cell_type": "code",
   "execution_count": 62,
   "id": "595eab88",
   "metadata": {},
   "outputs": [
    {
     "data": {
      "text/plain": [
       "{'Name': 'IANT', 'Email': 'Thisismymail@gmail.com'}"
      ]
     },
     "execution_count": 62,
     "metadata": {},
     "output_type": "execute_result"
    }
   ],
   "source": [
    "dic.d"
   ]
  },
  {
   "cell_type": "code",
   "execution_count": 63,
   "id": "e199f574",
   "metadata": {},
   "outputs": [
    {
     "data": {
      "text/plain": [
       "dict_keys(['Name', 'Email'])"
      ]
     },
     "execution_count": 63,
     "metadata": {},
     "output_type": "execute_result"
    }
   ],
   "source": [
    "dic.mykeys()"
   ]
  },
  {
   "cell_type": "code",
   "execution_count": 64,
   "id": "6edf6e06",
   "metadata": {},
   "outputs": [
    {
     "data": {
      "text/plain": [
       "dict_values(['IANT', 'Thisismymail@gmail.com'])"
      ]
     },
     "execution_count": 64,
     "metadata": {},
     "output_type": "execute_result"
    }
   ],
   "source": [
    "dic.myvalues()"
   ]
  },
  {
   "cell_type": "markdown",
   "id": "c484b4ae",
   "metadata": {},
   "source": [
    "# Inheritance"
   ]
  },
  {
   "cell_type": "code",
   "execution_count": 65,
   "id": "41cb53a5",
   "metadata": {},
   "outputs": [],
   "source": [
    "class xyz:\n",
    "    def __init__(self,a,b,c):\n",
    "        self.a = a\n",
    "        self.b = b\n",
    "        self.c = c\n",
    "        \n",
    "    def test(self):\n",
    "        print(\"This is my test in class xyz\")\n",
    "        \n",
    "    def test2(self):\n",
    "        print(\"This is my second in  my class xyz\")"
   ]
  },
  {
   "cell_type": "code",
   "execution_count": 66,
   "id": "30bca71d",
   "metadata": {},
   "outputs": [],
   "source": [
    "p = xyz(1,2,3)"
   ]
  },
  {
   "cell_type": "code",
   "execution_count": 67,
   "id": "fe328970",
   "metadata": {},
   "outputs": [
    {
     "data": {
      "text/plain": [
       "1"
      ]
     },
     "execution_count": 67,
     "metadata": {},
     "output_type": "execute_result"
    }
   ],
   "source": [
    "p.a"
   ]
  },
  {
   "cell_type": "code",
   "execution_count": 68,
   "id": "932fba1a",
   "metadata": {},
   "outputs": [
    {
     "name": "stdout",
     "output_type": "stream",
     "text": [
      "This is my test in class xyz\n"
     ]
    }
   ],
   "source": [
    "p.test()"
   ]
  },
  {
   "cell_type": "code",
   "execution_count": 69,
   "id": "39979ad0",
   "metadata": {},
   "outputs": [
    {
     "name": "stdout",
     "output_type": "stream",
     "text": [
      "This is my second in  my class xyz\n"
     ]
    }
   ],
   "source": [
    "p.test2()"
   ]
  },
  {
   "cell_type": "code",
   "execution_count": 70,
   "id": "5dd765b9",
   "metadata": {},
   "outputs": [],
   "source": [
    "class xyz1(xyz):\n",
    "    pass"
   ]
  },
  {
   "cell_type": "code",
   "execution_count": 72,
   "id": "a8319ddb",
   "metadata": {},
   "outputs": [],
   "source": [
    "l = xyz1(5,6,7)"
   ]
  },
  {
   "cell_type": "code",
   "execution_count": 73,
   "id": "119663c3",
   "metadata": {},
   "outputs": [
    {
     "data": {
      "text/plain": [
       "5"
      ]
     },
     "execution_count": 73,
     "metadata": {},
     "output_type": "execute_result"
    }
   ],
   "source": [
    "l.a"
   ]
  },
  {
   "cell_type": "code",
   "execution_count": 74,
   "id": "7391b40f",
   "metadata": {},
   "outputs": [
    {
     "data": {
      "text/plain": [
       "6"
      ]
     },
     "execution_count": 74,
     "metadata": {},
     "output_type": "execute_result"
    }
   ],
   "source": [
    "l.b"
   ]
  },
  {
   "cell_type": "code",
   "execution_count": 75,
   "id": "7626fe07",
   "metadata": {},
   "outputs": [
    {
     "data": {
      "text/plain": [
       "7"
      ]
     },
     "execution_count": 75,
     "metadata": {},
     "output_type": "execute_result"
    }
   ],
   "source": [
    "l.c"
   ]
  },
  {
   "cell_type": "code",
   "execution_count": 77,
   "id": "7a23fdc0",
   "metadata": {},
   "outputs": [
    {
     "name": "stdout",
     "output_type": "stream",
     "text": [
      "This is my test in class xyz\n"
     ]
    }
   ],
   "source": [
    "l.test()"
   ]
  },
  {
   "cell_type": "code",
   "execution_count": 78,
   "id": "3436d58a",
   "metadata": {},
   "outputs": [
    {
     "name": "stdout",
     "output_type": "stream",
     "text": [
      "This is my second in  my class xyz\n"
     ]
    }
   ],
   "source": [
    "l.test2()"
   ]
  },
  {
   "cell_type": "code",
   "execution_count": 79,
   "id": "04853a09",
   "metadata": {},
   "outputs": [],
   "source": [
    "class xyz:\n",
    "    def __init__(self,a,b,c):\n",
    "        self.a = a\n",
    "        self.b = b\n",
    "        self.c = c\n",
    "        \n",
    "    def test(self):\n",
    "        print(\"This is my test in class xyz\")\n",
    "        \n",
    "    def test2(self):\n",
    "        print(\"This is my second in  my class xyz\")\n",
    "        \n",
    "class xyz1(xyz):\n",
    "    pass"
   ]
  },
  {
   "cell_type": "code",
   "execution_count": null,
   "id": "126e9393",
   "metadata": {},
   "outputs": [],
   "source": []
  },
  {
   "cell_type": "code",
   "execution_count": null,
   "id": "e1ea2342",
   "metadata": {},
   "outputs": [],
   "source": []
  },
  {
   "cell_type": "code",
   "execution_count": 80,
   "id": "315c3222",
   "metadata": {},
   "outputs": [],
   "source": [
    "class xyz:\n",
    "    def __init__(self,a,b,c):\n",
    "        self.a = a\n",
    "        self.b = b\n",
    "        self.c = c\n",
    "        \n",
    "    def test(self):\n",
    "        print(\"This is my test in class xyz\")\n",
    "        \n",
    "    def test2(self):\n",
    "        print(\"This is my second in  my class xyz\")\n",
    "        \n",
    "class xyz1(xyz):\n",
    "    def test5(self):\n",
    "        print(\"This is my test 5 in my class of xyz1\")"
   ]
  },
  {
   "cell_type": "code",
   "execution_count": 82,
   "id": "53467c33",
   "metadata": {},
   "outputs": [],
   "source": [
    "h = xyz1('a','b','c')"
   ]
  },
  {
   "cell_type": "code",
   "execution_count": 83,
   "id": "5a021fd8",
   "metadata": {},
   "outputs": [
    {
     "name": "stdout",
     "output_type": "stream",
     "text": [
      "This is my test 5 in my class of xyz1\n"
     ]
    }
   ],
   "source": [
    "h.test5()"
   ]
  },
  {
   "cell_type": "code",
   "execution_count": 84,
   "id": "f90fe1ce",
   "metadata": {},
   "outputs": [],
   "source": [
    "g = xyz(1,2,3)"
   ]
  },
  {
   "cell_type": "code",
   "execution_count": 85,
   "id": "0489aaec",
   "metadata": {},
   "outputs": [
    {
     "name": "stdout",
     "output_type": "stream",
     "text": [
      "This is my second in  my class xyz\n"
     ]
    }
   ],
   "source": [
    "g.test2()"
   ]
  },
  {
   "cell_type": "code",
   "execution_count": 86,
   "id": "bb08b7b8",
   "metadata": {},
   "outputs": [
    {
     "name": "stdout",
     "output_type": "stream",
     "text": [
      "This is my test 5 in my class of xyz1\n"
     ]
    }
   ],
   "source": [
    "h.test5()"
   ]
  },
  {
   "cell_type": "code",
   "execution_count": 87,
   "id": "758218a3",
   "metadata": {},
   "outputs": [
    {
     "data": {
      "text/plain": [
       "'a'"
      ]
     },
     "execution_count": 87,
     "metadata": {},
     "output_type": "execute_result"
    }
   ],
   "source": [
    "h.a"
   ]
  },
  {
   "cell_type": "code",
   "execution_count": 89,
   "id": "3432e84b",
   "metadata": {},
   "outputs": [],
   "source": [
    "class xyz:\n",
    "    def __init__(self,a,b,c):\n",
    "        self.a = a\n",
    "        self.b = b\n",
    "        self.c = c\n",
    "        \n",
    "    def test(self):\n",
    "        print(\"This is my test in class xyz\")\n",
    "        \n",
    "    def test2(self):\n",
    "        print(\"This is my second in  my class xyz\")\n",
    "        \n",
    "class xyz1(xyz):\n",
    "    def test3(self):\n",
    "        print(\"This is test 3 in class of XYZ1\")\n",
    "        \n",
    "class xyz2(xyz1):\n",
    "    def test4(self):\n",
    "        print(\"this is my test 4 in class xyz2\")"
   ]
  },
  {
   "cell_type": "code",
   "execution_count": 90,
   "id": "72424944",
   "metadata": {},
   "outputs": [],
   "source": [
    "f = xyz2('p','q','r')"
   ]
  },
  {
   "cell_type": "code",
   "execution_count": 91,
   "id": "ef7aad56",
   "metadata": {},
   "outputs": [
    {
     "name": "stdout",
     "output_type": "stream",
     "text": [
      "this is my test 4 in class xyz2\n"
     ]
    }
   ],
   "source": [
    "f.test4()"
   ]
  },
  {
   "cell_type": "code",
   "execution_count": 92,
   "id": "c091dc82",
   "metadata": {},
   "outputs": [],
   "source": [
    "o = xyz(1,2,3)"
   ]
  },
  {
   "cell_type": "code",
   "execution_count": 94,
   "id": "d1705106",
   "metadata": {},
   "outputs": [
    {
     "name": "stdout",
     "output_type": "stream",
     "text": [
      "This is my second in  my class xyz\n"
     ]
    }
   ],
   "source": [
    "o.test2()"
   ]
  },
  {
   "cell_type": "code",
   "execution_count": 108,
   "id": "b7cd079e",
   "metadata": {},
   "outputs": [],
   "source": [
    "class File:\n",
    "    def __init__(self,filename):\n",
    "        self.filename = filename\n",
    "        \n",
    "    def read(self):\n",
    "        f = open(self.filename,'r+')\n",
    "        f.seek(0)\n",
    "        return f.read()\n",
    "        f.close()\n",
    "        \n",
    "    def write(self,writing_data=''):\n",
    "        f = open(self.filename, 'r+')\n",
    "        f.write(writing_data)\n",
    "        f.close()"
   ]
  },
  {
   "cell_type": "code",
   "execution_count": 109,
   "id": "b9c35489",
   "metadata": {},
   "outputs": [],
   "source": [
    "g = File('Class_list.txt')"
   ]
  },
  {
   "cell_type": "code",
   "execution_count": 111,
   "id": "c3646560",
   "metadata": {},
   "outputs": [
    {
     "data": {
      "text/plain": [
       "'This is my data in writing'"
      ]
     },
     "execution_count": 111,
     "metadata": {},
     "output_type": "execute_result"
    }
   ],
   "source": [
    "g.read()"
   ]
  },
  {
   "cell_type": "code",
   "execution_count": 112,
   "id": "00848ccd",
   "metadata": {},
   "outputs": [],
   "source": [
    "g.write(writing_data='This is my data in writing')"
   ]
  },
  {
   "cell_type": "code",
   "execution_count": null,
   "id": "845c93be",
   "metadata": {},
   "outputs": [],
   "source": []
  },
  {
   "cell_type": "code",
   "execution_count": null,
   "id": "e7ec09ad",
   "metadata": {},
   "outputs": [],
   "source": []
  }
 ],
 "metadata": {
  "kernelspec": {
   "display_name": "Python 3 (ipykernel)",
   "language": "python",
   "name": "python3"
  },
  "language_info": {
   "codemirror_mode": {
    "name": "ipython",
    "version": 3
   },
   "file_extension": ".py",
   "mimetype": "text/x-python",
   "name": "python",
   "nbconvert_exporter": "python",
   "pygments_lexer": "ipython3",
   "version": "3.10.9"
  }
 },
 "nbformat": 4,
 "nbformat_minor": 5
}
