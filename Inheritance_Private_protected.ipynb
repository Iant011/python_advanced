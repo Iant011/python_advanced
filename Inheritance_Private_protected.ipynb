{
 "cells": [
  {
   "cell_type": "code",
   "execution_count": 2,
   "id": "3229e775",
   "metadata": {},
   "outputs": [],
   "source": [
    "class xyz:\n",
    "    def __init__(self,a,b,c):\n",
    "        self.a = a\n",
    "        self.b = b\n",
    "        self.c = c\n",
    "        \n",
    "    def test(self):\n",
    "        print(\"This is my test in class xyz\")\n",
    "        \n",
    "    def test2(self):\n",
    "        print(\"This is my second in  my class xyz\")\n",
    "        \n",
    "        \n",
    "class xyz1(xyz):\n",
    "    def test5(self):\n",
    "        print(\"This is my test 5 in my class of xyz1\")"
   ]
  },
  {
   "cell_type": "code",
   "execution_count": 4,
   "id": "d68e102f",
   "metadata": {},
   "outputs": [],
   "source": [
    "d = xyz1(1,2,3)"
   ]
  },
  {
   "cell_type": "code",
   "execution_count": 5,
   "id": "a40c4a97",
   "metadata": {},
   "outputs": [
    {
     "name": "stdout",
     "output_type": "stream",
     "text": [
      "This is my test 5 in my class of xyz1\n"
     ]
    }
   ],
   "source": [
    "d.test5()"
   ]
  },
  {
   "cell_type": "code",
   "execution_count": 6,
   "id": "1037052f",
   "metadata": {},
   "outputs": [
    {
     "name": "stdout",
     "output_type": "stream",
     "text": [
      "This is my test in class xyz\n"
     ]
    }
   ],
   "source": [
    "d.test()"
   ]
  },
  {
   "cell_type": "markdown",
   "id": "c25158be",
   "metadata": {},
   "source": [
    "# Publlic Private Protected"
   ]
  },
  {
   "cell_type": "code",
   "execution_count": 10,
   "id": "53299a60",
   "metadata": {},
   "outputs": [],
   "source": [
    "class test :\n",
    "    def __init__(self, a, b , c):\n",
    "        self.a = a\n",
    "        self.b = b\n",
    "        self.c = c\n",
    "        \n",
    "class test2(test) :\n",
    "    pass"
   ]
  },
  {
   "cell_type": "code",
   "execution_count": 11,
   "id": "a7c6aadd",
   "metadata": {},
   "outputs": [],
   "source": [
    "f = test2('a','b','c')"
   ]
  },
  {
   "cell_type": "code",
   "execution_count": 12,
   "id": "aaf1b16e",
   "metadata": {},
   "outputs": [
    {
     "data": {
      "text/plain": [
       "'a'"
      ]
     },
     "execution_count": 12,
     "metadata": {},
     "output_type": "execute_result"
    }
   ],
   "source": [
    "f.a"
   ]
  },
  {
   "cell_type": "code",
   "execution_count": 13,
   "id": "41808ec5",
   "metadata": {},
   "outputs": [
    {
     "data": {
      "text/plain": [
       "'b'"
      ]
     },
     "execution_count": 13,
     "metadata": {},
     "output_type": "execute_result"
    }
   ],
   "source": [
    "f.b"
   ]
  },
  {
   "cell_type": "code",
   "execution_count": 14,
   "id": "67270be7",
   "metadata": {},
   "outputs": [
    {
     "data": {
      "text/plain": [
       "'c'"
      ]
     },
     "execution_count": 14,
     "metadata": {},
     "output_type": "execute_result"
    }
   ],
   "source": [
    "f.c"
   ]
  },
  {
   "cell_type": "code",
   "execution_count": 15,
   "id": "2c41e2b7",
   "metadata": {},
   "outputs": [],
   "source": [
    "class test :\n",
    "    def __init__(self, a, b , c):\n",
    "        self.a = a    #public\n",
    "        self._b = b  #protected\n",
    "        self.c = c\n",
    "        \n",
    "class test2(test) :\n",
    "    pass"
   ]
  },
  {
   "cell_type": "code",
   "execution_count": 16,
   "id": "f7268105",
   "metadata": {},
   "outputs": [],
   "source": [
    "g = test(1,2,3)"
   ]
  },
  {
   "cell_type": "code",
   "execution_count": 17,
   "id": "55fb961f",
   "metadata": {},
   "outputs": [
    {
     "data": {
      "text/plain": [
       "1"
      ]
     },
     "execution_count": 17,
     "metadata": {},
     "output_type": "execute_result"
    }
   ],
   "source": [
    "g.a    # Because this is my public "
   ]
  },
  {
   "cell_type": "code",
   "execution_count": 18,
   "id": "a7623821",
   "metadata": {},
   "outputs": [
    {
     "data": {
      "text/plain": [
       "2"
      ]
     },
     "execution_count": 18,
     "metadata": {},
     "output_type": "execute_result"
    }
   ],
   "source": [
    "g._b # Protected file will be accesed by using '_' before my argument"
   ]
  },
  {
   "cell_type": "code",
   "execution_count": 19,
   "id": "e1f19245",
   "metadata": {},
   "outputs": [
    {
     "data": {
      "text/plain": [
       "3"
      ]
     },
     "execution_count": 19,
     "metadata": {},
     "output_type": "execute_result"
    }
   ],
   "source": [
    "g.c"
   ]
  },
  {
   "cell_type": "code",
   "execution_count": 20,
   "id": "06c32dcc",
   "metadata": {},
   "outputs": [],
   "source": [
    "class test :\n",
    "    def __init__(self, a, b , c):\n",
    "        self.a = a    #public\n",
    "        self._b = b  #protected\n",
    "        self.__c = c  #private\n",
    "        \n",
    "class test2(test) :\n",
    "    pass"
   ]
  },
  {
   "cell_type": "code",
   "execution_count": 21,
   "id": "83fe4374",
   "metadata": {},
   "outputs": [],
   "source": [
    "s = test(1,2,3)"
   ]
  },
  {
   "cell_type": "code",
   "execution_count": 22,
   "id": "b9cbfece",
   "metadata": {},
   "outputs": [
    {
     "data": {
      "text/plain": [
       "1"
      ]
     },
     "execution_count": 22,
     "metadata": {},
     "output_type": "execute_result"
    }
   ],
   "source": [
    "s.a"
   ]
  },
  {
   "cell_type": "code",
   "execution_count": 23,
   "id": "05c70b02",
   "metadata": {},
   "outputs": [
    {
     "data": {
      "text/plain": [
       "2"
      ]
     },
     "execution_count": 23,
     "metadata": {},
     "output_type": "execute_result"
    }
   ],
   "source": [
    "s._b"
   ]
  },
  {
   "cell_type": "code",
   "execution_count": 25,
   "id": "2567c2a3",
   "metadata": {},
   "outputs": [
    {
     "data": {
      "text/plain": [
       "3"
      ]
     },
     "execution_count": 25,
     "metadata": {},
     "output_type": "execute_result"
    }
   ],
   "source": [
    "s._test__c"
   ]
  },
  {
   "cell_type": "code",
   "execution_count": null,
   "id": "fce30e75",
   "metadata": {},
   "outputs": [],
   "source": []
  },
  {
   "cell_type": "code",
   "execution_count": 27,
   "id": "def9f494",
   "metadata": {},
   "outputs": [],
   "source": [
    "d = test2(1,2,3)"
   ]
  },
  {
   "cell_type": "code",
   "execution_count": 28,
   "id": "1c4888ff",
   "metadata": {},
   "outputs": [
    {
     "data": {
      "text/plain": [
       "1"
      ]
     },
     "execution_count": 28,
     "metadata": {},
     "output_type": "execute_result"
    }
   ],
   "source": [
    "d.a"
   ]
  },
  {
   "cell_type": "code",
   "execution_count": 29,
   "id": "e01e3c43",
   "metadata": {},
   "outputs": [
    {
     "data": {
      "text/plain": [
       "2"
      ]
     },
     "execution_count": 29,
     "metadata": {},
     "output_type": "execute_result"
    }
   ],
   "source": [
    "d._b"
   ]
  },
  {
   "cell_type": "code",
   "execution_count": 30,
   "id": "1587ba9a",
   "metadata": {},
   "outputs": [
    {
     "data": {
      "text/plain": [
       "3"
      ]
     },
     "execution_count": 30,
     "metadata": {},
     "output_type": "execute_result"
    }
   ],
   "source": [
    "d._test__c"
   ]
  },
  {
   "cell_type": "code",
   "execution_count": null,
   "id": "484d844a",
   "metadata": {},
   "outputs": [],
   "source": []
  },
  {
   "cell_type": "code",
   "execution_count": 33,
   "id": "4a03578d",
   "metadata": {},
   "outputs": [],
   "source": [
    "class bonouscalculator:\n",
    "    def __init__(self,employ_id,employ_rating):\n",
    "        self.employ_id = employ_id                    #public             \n",
    "        self.employ_rating= employ_rating             #public\n",
    "        self._gmail = 'iantdatascience@gmail.com'    #protected\n",
    "        self.__bonousForA = \"70%\"                    #private\n",
    "        self.__bonousForB = \"60%\"\n",
    "        self.__bonousForC = \"40%\"\n",
    "        \n",
    "    "
   ]
  },
  {
   "cell_type": "code",
   "execution_count": 34,
   "id": "97b118f4",
   "metadata": {},
   "outputs": [],
   "source": [
    "calsy =  bonouscalculator(101,'B')"
   ]
  },
  {
   "cell_type": "code",
   "execution_count": 35,
   "id": "dea9e887",
   "metadata": {},
   "outputs": [
    {
     "data": {
      "text/plain": [
       "101"
      ]
     },
     "execution_count": 35,
     "metadata": {},
     "output_type": "execute_result"
    }
   ],
   "source": [
    "calsy.employ_id"
   ]
  },
  {
   "cell_type": "code",
   "execution_count": 36,
   "id": "eed64de1",
   "metadata": {},
   "outputs": [
    {
     "data": {
      "text/plain": [
       "'B'"
      ]
     },
     "execution_count": 36,
     "metadata": {},
     "output_type": "execute_result"
    }
   ],
   "source": [
    "calsy.employ_rating"
   ]
  },
  {
   "cell_type": "code",
   "execution_count": 39,
   "id": "d77759fb",
   "metadata": {},
   "outputs": [
    {
     "data": {
      "text/plain": [
       "'iantdatascience@gmail.com'"
      ]
     },
     "execution_count": 39,
     "metadata": {},
     "output_type": "execute_result"
    }
   ],
   "source": [
    "calsy._gmail"
   ]
  },
  {
   "cell_type": "code",
   "execution_count": 40,
   "id": "86856d74",
   "metadata": {},
   "outputs": [
    {
     "data": {
      "text/plain": [
       "'70%'"
      ]
     },
     "execution_count": 40,
     "metadata": {},
     "output_type": "execute_result"
    }
   ],
   "source": [
    "calsy._bonouscalculator__bonousForA"
   ]
  },
  {
   "cell_type": "code",
   "execution_count": 41,
   "id": "06003289",
   "metadata": {},
   "outputs": [
    {
     "data": {
      "text/plain": [
       "'60%'"
      ]
     },
     "execution_count": 41,
     "metadata": {},
     "output_type": "execute_result"
    }
   ],
   "source": [
    "calsy._bonouscalculator__bonousForB"
   ]
  },
  {
   "cell_type": "code",
   "execution_count": 42,
   "id": "c99b2999",
   "metadata": {},
   "outputs": [
    {
     "data": {
      "text/plain": [
       "'40%'"
      ]
     },
     "execution_count": 42,
     "metadata": {},
     "output_type": "execute_result"
    }
   ],
   "source": [
    "calsy._bonouscalculator__bonousForC"
   ]
  },
  {
   "cell_type": "code",
   "execution_count": 43,
   "id": "29000663",
   "metadata": {},
   "outputs": [],
   "source": [
    "class bonouscalculator:\n",
    "    def __init__(self,employ_id,employ_rating):\n",
    "        self.employ_id = employ_id                    #public             \n",
    "        self.employ_rating= employ_rating             #public\n",
    "        self._gmail = 'iantdatascience@gmail.com'    #protected\n",
    "        self.__bonousForA = \"70%\"                    #private\n",
    "        self.__bonousForB = \"60%\"\n",
    "        self.__bonousForC = \"40%\"\n",
    "        \n",
    "    def calculator(self):\n",
    "        if self.employ_rating == 'A':\n",
    "            bonus = self.__bonousForA\n",
    "            return bonus\n",
    "        elif self.employ_rating == 'B':\n",
    "            bonus = self.__bonousForB\n",
    "            return bonus\n",
    "        else :\n",
    "            bonus = self.__bonousForC\n",
    "            return bonus"
   ]
  },
  {
   "cell_type": "code",
   "execution_count": 44,
   "id": "a27a42c0",
   "metadata": {},
   "outputs": [],
   "source": [
    "g = bonouscalculator(105,'C')"
   ]
  },
  {
   "cell_type": "code",
   "execution_count": 45,
   "id": "f4ea03a4",
   "metadata": {},
   "outputs": [
    {
     "data": {
      "text/plain": [
       "'40%'"
      ]
     },
     "execution_count": 45,
     "metadata": {},
     "output_type": "execute_result"
    }
   ],
   "source": [
    "g.calculator()"
   ]
  },
  {
   "cell_type": "code",
   "execution_count": 46,
   "id": "f6a776dc",
   "metadata": {},
   "outputs": [],
   "source": [
    "g = bonouscalculator(105,'A')"
   ]
  },
  {
   "cell_type": "code",
   "execution_count": 47,
   "id": "c5df40f4",
   "metadata": {},
   "outputs": [
    {
     "data": {
      "text/plain": [
       "'70%'"
      ]
     },
     "execution_count": 47,
     "metadata": {},
     "output_type": "execute_result"
    }
   ],
   "source": [
    "g.calculator()"
   ]
  },
  {
   "cell_type": "code",
   "execution_count": 48,
   "id": "6c054042",
   "metadata": {},
   "outputs": [],
   "source": [
    "g = bonouscalculator(105,'B')"
   ]
  },
  {
   "cell_type": "code",
   "execution_count": 49,
   "id": "c99aa84a",
   "metadata": {},
   "outputs": [
    {
     "data": {
      "text/plain": [
       "'60%'"
      ]
     },
     "execution_count": 49,
     "metadata": {},
     "output_type": "execute_result"
    }
   ],
   "source": [
    "g.calculator()"
   ]
  },
  {
   "cell_type": "code",
   "execution_count": 37,
   "id": "7027eeaa",
   "metadata": {},
   "outputs": [],
   "source": [
    "def iant(a,b):\n",
    "    c = 10\n",
    "    return a + b + c\n",
    "    "
   ]
  },
  {
   "cell_type": "code",
   "execution_count": 38,
   "id": "0c9f9462",
   "metadata": {},
   "outputs": [
    {
     "data": {
      "text/plain": [
       "20"
      ]
     },
     "execution_count": 38,
     "metadata": {},
     "output_type": "execute_result"
    }
   ],
   "source": [
    "iant(5,5)"
   ]
  },
  {
   "cell_type": "code",
   "execution_count": null,
   "id": "fda81a51",
   "metadata": {},
   "outputs": [],
   "source": []
  },
  {
   "cell_type": "code",
   "execution_count": null,
   "id": "ff217ed3",
   "metadata": {},
   "outputs": [],
   "source": []
  }
 ],
 "metadata": {
  "kernelspec": {
   "display_name": "Python 3 (ipykernel)",
   "language": "python",
   "name": "python3"
  },
  "language_info": {
   "codemirror_mode": {
    "name": "ipython",
    "version": 3
   },
   "file_extension": ".py",
   "mimetype": "text/x-python",
   "name": "python",
   "nbconvert_exporter": "python",
   "pygments_lexer": "ipython3",
   "version": "3.10.9"
  }
 },
 "nbformat": 4,
 "nbformat_minor": 5
}
